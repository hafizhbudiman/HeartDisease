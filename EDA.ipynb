{
 "cells": [
  {
   "cell_type": "code",
   "execution_count": 1,
   "metadata": {},
   "outputs": [],
   "source": [
    "import pandas as pd\n",
    "import numpy as np\n",
    "import matplotlib.pyplot as plt\n",
    "%matplotlib inline"
   ]
  },
  {
   "cell_type": "code",
   "execution_count": 2,
   "metadata": {},
   "outputs": [],
   "source": [
    "df = pd.read_csv('data/tubes2_HeartDisease_train.csv')"
   ]
  },
  {
   "cell_type": "code",
   "execution_count": 3,
   "metadata": {},
   "outputs": [
    {
     "data": {
      "text/html": [
       "<div>\n",
       "<style scoped>\n",
       "    .dataframe tbody tr th:only-of-type {\n",
       "        vertical-align: middle;\n",
       "    }\n",
       "\n",
       "    .dataframe tbody tr th {\n",
       "        vertical-align: top;\n",
       "    }\n",
       "\n",
       "    .dataframe thead th {\n",
       "        text-align: right;\n",
       "    }\n",
       "</style>\n",
       "<table border=\"1\" class=\"dataframe\">\n",
       "  <thead>\n",
       "    <tr style=\"text-align: right;\">\n",
       "      <th></th>\n",
       "      <th>Column1</th>\n",
       "      <th>Column2</th>\n",
       "      <th>Column3</th>\n",
       "      <th>Column4</th>\n",
       "      <th>Column5</th>\n",
       "      <th>Column6</th>\n",
       "      <th>Column7</th>\n",
       "      <th>Column8</th>\n",
       "      <th>Column9</th>\n",
       "      <th>Column10</th>\n",
       "      <th>Column11</th>\n",
       "      <th>Column12</th>\n",
       "      <th>Column13</th>\n",
       "      <th>Column14</th>\n",
       "    </tr>\n",
       "  </thead>\n",
       "  <tbody>\n",
       "    <tr>\n",
       "      <th>0</th>\n",
       "      <td>54</td>\n",
       "      <td>1</td>\n",
       "      <td>4</td>\n",
       "      <td>125</td>\n",
       "      <td>216</td>\n",
       "      <td>0</td>\n",
       "      <td>0</td>\n",
       "      <td>140</td>\n",
       "      <td>0</td>\n",
       "      <td>0</td>\n",
       "      <td>?</td>\n",
       "      <td>?</td>\n",
       "      <td>?</td>\n",
       "      <td>1</td>\n",
       "    </tr>\n",
       "    <tr>\n",
       "      <th>1</th>\n",
       "      <td>55</td>\n",
       "      <td>1</td>\n",
       "      <td>4</td>\n",
       "      <td>158</td>\n",
       "      <td>217</td>\n",
       "      <td>0</td>\n",
       "      <td>0</td>\n",
       "      <td>110</td>\n",
       "      <td>1</td>\n",
       "      <td>2.5</td>\n",
       "      <td>2</td>\n",
       "      <td>?</td>\n",
       "      <td>?</td>\n",
       "      <td>1</td>\n",
       "    </tr>\n",
       "    <tr>\n",
       "      <th>2</th>\n",
       "      <td>54</td>\n",
       "      <td>0</td>\n",
       "      <td>3</td>\n",
       "      <td>135</td>\n",
       "      <td>304</td>\n",
       "      <td>1</td>\n",
       "      <td>0</td>\n",
       "      <td>170</td>\n",
       "      <td>0</td>\n",
       "      <td>0</td>\n",
       "      <td>1</td>\n",
       "      <td>0</td>\n",
       "      <td>3</td>\n",
       "      <td>0</td>\n",
       "    </tr>\n",
       "    <tr>\n",
       "      <th>3</th>\n",
       "      <td>48</td>\n",
       "      <td>0</td>\n",
       "      <td>3</td>\n",
       "      <td>120</td>\n",
       "      <td>195</td>\n",
       "      <td>0</td>\n",
       "      <td>0</td>\n",
       "      <td>125</td>\n",
       "      <td>0</td>\n",
       "      <td>0</td>\n",
       "      <td>?</td>\n",
       "      <td>?</td>\n",
       "      <td>?</td>\n",
       "      <td>0</td>\n",
       "    </tr>\n",
       "    <tr>\n",
       "      <th>4</th>\n",
       "      <td>50</td>\n",
       "      <td>1</td>\n",
       "      <td>4</td>\n",
       "      <td>120</td>\n",
       "      <td>0</td>\n",
       "      <td>0</td>\n",
       "      <td>1</td>\n",
       "      <td>156</td>\n",
       "      <td>1</td>\n",
       "      <td>0</td>\n",
       "      <td>1</td>\n",
       "      <td>?</td>\n",
       "      <td>6</td>\n",
       "      <td>3</td>\n",
       "    </tr>\n",
       "  </tbody>\n",
       "</table>\n",
       "</div>"
      ],
      "text/plain": [
       "   Column1  Column2  Column3 Column4 Column5 Column6 Column7 Column8 Column9  \\\n",
       "0       54        1        4     125     216       0       0     140       0   \n",
       "1       55        1        4     158     217       0       0     110       1   \n",
       "2       54        0        3     135     304       1       0     170       0   \n",
       "3       48        0        3     120     195       0       0     125       0   \n",
       "4       50        1        4     120       0       0       1     156       1   \n",
       "\n",
       "  Column10 Column11 Column12 Column13  Column14  \n",
       "0        0        ?        ?        ?         1  \n",
       "1      2.5        2        ?        ?         1  \n",
       "2        0        1        0        3         0  \n",
       "3        0        ?        ?        ?         0  \n",
       "4        0        1        ?        6         3  "
      ]
     },
     "execution_count": 3,
     "metadata": {},
     "output_type": "execute_result"
    }
   ],
   "source": [
    "df.head()"
   ]
  },
  {
   "cell_type": "code",
   "execution_count": 4,
   "metadata": {},
   "outputs": [
    {
     "data": {
      "text/plain": [
       "0    349\n",
       "1    225\n",
       "2     92\n",
       "3     90\n",
       "4     23\n",
       "Name: Column14, dtype: int64"
      ]
     },
     "execution_count": 4,
     "metadata": {},
     "output_type": "execute_result"
    }
   ],
   "source": [
    "df['Column14'].value_counts()"
   ]
  },
  {
   "cell_type": "code",
   "execution_count": 5,
   "metadata": {},
   "outputs": [
    {
     "name": "stdout",
     "output_type": "stream",
     "text": [
      "779\n",
      "Percentage of Empty in Each Attributes\n"
     ]
    },
    {
     "data": {
      "text/plain": [
       "Column1     0.000000\n",
       "Column2     0.000000\n",
       "Column3     0.000000\n",
       "Column4     0.060334\n",
       "Column5     0.030809\n",
       "Column6     0.100128\n",
       "Column7     0.002567\n",
       "Column8     0.056483\n",
       "Column9     0.056483\n",
       "Column10    0.062901\n",
       "Column11    0.336329\n",
       "Column12    0.659820\n",
       "Column13    0.523748\n",
       "Column14    0.000000\n",
       "dtype: float64"
      ]
     },
     "execution_count": 5,
     "metadata": {},
     "output_type": "execute_result"
    }
   ],
   "source": [
    "df.replace({\"?\":np.nan}, inplace=True)\n",
    "print(len(df))\n",
    "print(\"Percentage of Empty in Each Attributes\")\n",
    "df.isnull().sum(axis = 0)/len(df)"
   ]
  },
  {
   "cell_type": "code",
   "execution_count": 6,
   "metadata": {},
   "outputs": [
    {
     "data": {
      "text/html": [
       "<div>\n",
       "<style scoped>\n",
       "    .dataframe tbody tr th:only-of-type {\n",
       "        vertical-align: middle;\n",
       "    }\n",
       "\n",
       "    .dataframe tbody tr th {\n",
       "        vertical-align: top;\n",
       "    }\n",
       "\n",
       "    .dataframe thead th {\n",
       "        text-align: right;\n",
       "    }\n",
       "</style>\n",
       "<table border=\"1\" class=\"dataframe\">\n",
       "  <thead>\n",
       "    <tr style=\"text-align: right;\">\n",
       "      <th></th>\n",
       "      <th>Column1</th>\n",
       "      <th>Column2</th>\n",
       "      <th>Column3</th>\n",
       "      <th>Column4</th>\n",
       "      <th>Column5</th>\n",
       "      <th>Column6</th>\n",
       "      <th>Column7</th>\n",
       "      <th>Column8</th>\n",
       "      <th>Column9</th>\n",
       "      <th>Column10</th>\n",
       "      <th>Column11</th>\n",
       "      <th>Column14</th>\n",
       "    </tr>\n",
       "  </thead>\n",
       "  <tbody>\n",
       "    <tr>\n",
       "      <th>count</th>\n",
       "      <td>704.000000</td>\n",
       "      <td>704.000000</td>\n",
       "      <td>704.000000</td>\n",
       "      <td>704.000000</td>\n",
       "      <td>704.000000</td>\n",
       "      <td>704.000000</td>\n",
       "      <td>704.000000</td>\n",
       "      <td>704.000000</td>\n",
       "      <td>704.000000</td>\n",
       "      <td>704.000000</td>\n",
       "      <td>704.000000</td>\n",
       "      <td>704.000000</td>\n",
       "    </tr>\n",
       "    <tr>\n",
       "      <th>mean</th>\n",
       "      <td>53.255682</td>\n",
       "      <td>0.765625</td>\n",
       "      <td>3.274148</td>\n",
       "      <td>132.207386</td>\n",
       "      <td>202.805398</td>\n",
       "      <td>0.127841</td>\n",
       "      <td>0.606534</td>\n",
       "      <td>138.427557</td>\n",
       "      <td>0.396307</td>\n",
       "      <td>4.037074</td>\n",
       "      <td>1.826705</td>\n",
       "      <td>0.968750</td>\n",
       "    </tr>\n",
       "    <tr>\n",
       "      <th>std</th>\n",
       "      <td>9.384165</td>\n",
       "      <td>0.423909</td>\n",
       "      <td>0.925450</td>\n",
       "      <td>19.150067</td>\n",
       "      <td>108.706558</td>\n",
       "      <td>0.334150</td>\n",
       "      <td>0.822868</td>\n",
       "      <td>26.017127</td>\n",
       "      <td>0.489477</td>\n",
       "      <td>7.894214</td>\n",
       "      <td>0.537178</td>\n",
       "      <td>1.120933</td>\n",
       "    </tr>\n",
       "    <tr>\n",
       "      <th>min</th>\n",
       "      <td>28.000000</td>\n",
       "      <td>0.000000</td>\n",
       "      <td>1.000000</td>\n",
       "      <td>0.000000</td>\n",
       "      <td>0.000000</td>\n",
       "      <td>0.000000</td>\n",
       "      <td>0.000000</td>\n",
       "      <td>60.000000</td>\n",
       "      <td>0.000000</td>\n",
       "      <td>-2.600000</td>\n",
       "      <td>1.000000</td>\n",
       "      <td>0.000000</td>\n",
       "    </tr>\n",
       "    <tr>\n",
       "      <th>25%</th>\n",
       "      <td>46.000000</td>\n",
       "      <td>1.000000</td>\n",
       "      <td>3.000000</td>\n",
       "      <td>120.000000</td>\n",
       "      <td>179.750000</td>\n",
       "      <td>0.000000</td>\n",
       "      <td>0.000000</td>\n",
       "      <td>120.000000</td>\n",
       "      <td>0.000000</td>\n",
       "      <td>0.000000</td>\n",
       "      <td>2.000000</td>\n",
       "      <td>0.000000</td>\n",
       "    </tr>\n",
       "    <tr>\n",
       "      <th>50%</th>\n",
       "      <td>54.000000</td>\n",
       "      <td>1.000000</td>\n",
       "      <td>4.000000</td>\n",
       "      <td>130.000000</td>\n",
       "      <td>228.000000</td>\n",
       "      <td>0.000000</td>\n",
       "      <td>0.000000</td>\n",
       "      <td>140.000000</td>\n",
       "      <td>0.000000</td>\n",
       "      <td>1.000000</td>\n",
       "      <td>2.000000</td>\n",
       "      <td>1.000000</td>\n",
       "    </tr>\n",
       "    <tr>\n",
       "      <th>75%</th>\n",
       "      <td>60.000000</td>\n",
       "      <td>1.000000</td>\n",
       "      <td>4.000000</td>\n",
       "      <td>140.000000</td>\n",
       "      <td>270.000000</td>\n",
       "      <td>0.000000</td>\n",
       "      <td>1.000000</td>\n",
       "      <td>159.250000</td>\n",
       "      <td>1.000000</td>\n",
       "      <td>3.000000</td>\n",
       "      <td>2.000000</td>\n",
       "      <td>2.000000</td>\n",
       "    </tr>\n",
       "    <tr>\n",
       "      <th>max</th>\n",
       "      <td>77.000000</td>\n",
       "      <td>1.000000</td>\n",
       "      <td>4.000000</td>\n",
       "      <td>200.000000</td>\n",
       "      <td>529.000000</td>\n",
       "      <td>1.000000</td>\n",
       "      <td>2.000000</td>\n",
       "      <td>202.000000</td>\n",
       "      <td>1.000000</td>\n",
       "      <td>62.000000</td>\n",
       "      <td>3.000000</td>\n",
       "      <td>4.000000</td>\n",
       "    </tr>\n",
       "  </tbody>\n",
       "</table>\n",
       "</div>"
      ],
      "text/plain": [
       "          Column1     Column2     Column3     Column4     Column5     Column6  \\\n",
       "count  704.000000  704.000000  704.000000  704.000000  704.000000  704.000000   \n",
       "mean    53.255682    0.765625    3.274148  132.207386  202.805398    0.127841   \n",
       "std      9.384165    0.423909    0.925450   19.150067  108.706558    0.334150   \n",
       "min     28.000000    0.000000    1.000000    0.000000    0.000000    0.000000   \n",
       "25%     46.000000    1.000000    3.000000  120.000000  179.750000    0.000000   \n",
       "50%     54.000000    1.000000    4.000000  130.000000  228.000000    0.000000   \n",
       "75%     60.000000    1.000000    4.000000  140.000000  270.000000    0.000000   \n",
       "max     77.000000    1.000000    4.000000  200.000000  529.000000    1.000000   \n",
       "\n",
       "          Column7     Column8     Column9    Column10    Column11    Column14  \n",
       "count  704.000000  704.000000  704.000000  704.000000  704.000000  704.000000  \n",
       "mean     0.606534  138.427557    0.396307    4.037074    1.826705    0.968750  \n",
       "std      0.822868   26.017127    0.489477    7.894214    0.537178    1.120933  \n",
       "min      0.000000   60.000000    0.000000   -2.600000    1.000000    0.000000  \n",
       "25%      0.000000  120.000000    0.000000    0.000000    2.000000    0.000000  \n",
       "50%      0.000000  140.000000    0.000000    1.000000    2.000000    1.000000  \n",
       "75%      1.000000  159.250000    1.000000    3.000000    2.000000    2.000000  \n",
       "max      2.000000  202.000000    1.000000   62.000000    3.000000    4.000000  "
      ]
     },
     "execution_count": 6,
     "metadata": {},
     "output_type": "execute_result"
    }
   ],
   "source": [
    "df.drop(['Column12', 'Column13'], axis=1, inplace=True)\n",
    "df.drop(df[pd.isnull(df['Column7'])].index, inplace=True)\n",
    "df.drop(df[pd.isnull(df['Column5'])].index, inplace=True)\n",
    "df.drop(df[pd.isnull(df['Column8'])].index, inplace=True)\n",
    "df.drop(df[pd.isnull(df['Column9'])].index, inplace=True)\n",
    "df.drop(df[pd.isnull(df['Column4'])].index, inplace=True)\n",
    "df.drop(df[pd.isnull(df['Column10'])].index, inplace=True)\n",
    "for column in df.columns:\n",
    "    df[column] = pd.to_numeric(df[column])\n",
    "    if (column == 'Column11'):\n",
    "        df[column].fillna(df[column].mode()[0], inplace=True)\n",
    "    else:\n",
    "        #df[column].fillna(df[column].mode()[0], inplace=True)\n",
    "        #df[column].fillna(df[column].mean(), inplace=True)\n",
    "        df[column].fillna(df[column].median(), inplace=True)\n",
    "df.describe(include='all')"
   ]
  },
  {
   "cell_type": "code",
   "execution_count": 7,
   "metadata": {},
   "outputs": [
    {
     "data": {
      "text/html": [
       "<div>\n",
       "<style scoped>\n",
       "    .dataframe tbody tr th:only-of-type {\n",
       "        vertical-align: middle;\n",
       "    }\n",
       "\n",
       "    .dataframe tbody tr th {\n",
       "        vertical-align: top;\n",
       "    }\n",
       "\n",
       "    .dataframe thead th {\n",
       "        text-align: right;\n",
       "    }\n",
       "</style>\n",
       "<table border=\"1\" class=\"dataframe\">\n",
       "  <thead>\n",
       "    <tr style=\"text-align: right;\">\n",
       "      <th></th>\n",
       "      <th>Column1</th>\n",
       "      <th>Column2</th>\n",
       "      <th>Column3</th>\n",
       "      <th>Column4</th>\n",
       "      <th>Column5</th>\n",
       "      <th>Column6</th>\n",
       "      <th>Column8</th>\n",
       "      <th>Column9</th>\n",
       "      <th>Column10</th>\n",
       "      <th>Column14</th>\n",
       "      <th>Column7_0</th>\n",
       "      <th>Column7_1</th>\n",
       "      <th>Column7_2</th>\n",
       "      <th>Column11_1.0</th>\n",
       "      <th>Column11_2.0</th>\n",
       "      <th>Column11_3.0</th>\n",
       "    </tr>\n",
       "  </thead>\n",
       "  <tbody>\n",
       "    <tr>\n",
       "      <th>0</th>\n",
       "      <td>54</td>\n",
       "      <td>1</td>\n",
       "      <td>4</td>\n",
       "      <td>125</td>\n",
       "      <td>216</td>\n",
       "      <td>0.0</td>\n",
       "      <td>140</td>\n",
       "      <td>0</td>\n",
       "      <td>0.0</td>\n",
       "      <td>1</td>\n",
       "      <td>1</td>\n",
       "      <td>0</td>\n",
       "      <td>0</td>\n",
       "      <td>0</td>\n",
       "      <td>1</td>\n",
       "      <td>0</td>\n",
       "    </tr>\n",
       "    <tr>\n",
       "      <th>1</th>\n",
       "      <td>55</td>\n",
       "      <td>1</td>\n",
       "      <td>4</td>\n",
       "      <td>158</td>\n",
       "      <td>217</td>\n",
       "      <td>0.0</td>\n",
       "      <td>110</td>\n",
       "      <td>1</td>\n",
       "      <td>2.5</td>\n",
       "      <td>1</td>\n",
       "      <td>1</td>\n",
       "      <td>0</td>\n",
       "      <td>0</td>\n",
       "      <td>0</td>\n",
       "      <td>1</td>\n",
       "      <td>0</td>\n",
       "    </tr>\n",
       "    <tr>\n",
       "      <th>2</th>\n",
       "      <td>54</td>\n",
       "      <td>0</td>\n",
       "      <td>3</td>\n",
       "      <td>135</td>\n",
       "      <td>304</td>\n",
       "      <td>1.0</td>\n",
       "      <td>170</td>\n",
       "      <td>0</td>\n",
       "      <td>0.0</td>\n",
       "      <td>0</td>\n",
       "      <td>1</td>\n",
       "      <td>0</td>\n",
       "      <td>0</td>\n",
       "      <td>1</td>\n",
       "      <td>0</td>\n",
       "      <td>0</td>\n",
       "    </tr>\n",
       "    <tr>\n",
       "      <th>3</th>\n",
       "      <td>48</td>\n",
       "      <td>0</td>\n",
       "      <td>3</td>\n",
       "      <td>120</td>\n",
       "      <td>195</td>\n",
       "      <td>0.0</td>\n",
       "      <td>125</td>\n",
       "      <td>0</td>\n",
       "      <td>0.0</td>\n",
       "      <td>0</td>\n",
       "      <td>1</td>\n",
       "      <td>0</td>\n",
       "      <td>0</td>\n",
       "      <td>0</td>\n",
       "      <td>1</td>\n",
       "      <td>0</td>\n",
       "    </tr>\n",
       "    <tr>\n",
       "      <th>4</th>\n",
       "      <td>50</td>\n",
       "      <td>1</td>\n",
       "      <td>4</td>\n",
       "      <td>120</td>\n",
       "      <td>0</td>\n",
       "      <td>0.0</td>\n",
       "      <td>156</td>\n",
       "      <td>1</td>\n",
       "      <td>0.0</td>\n",
       "      <td>3</td>\n",
       "      <td>0</td>\n",
       "      <td>1</td>\n",
       "      <td>0</td>\n",
       "      <td>1</td>\n",
       "      <td>0</td>\n",
       "      <td>0</td>\n",
       "    </tr>\n",
       "  </tbody>\n",
       "</table>\n",
       "</div>"
      ],
      "text/plain": [
       "   Column1  Column2  Column3  Column4  Column5  Column6  Column8  Column9  \\\n",
       "0       54        1        4      125      216      0.0      140        0   \n",
       "1       55        1        4      158      217      0.0      110        1   \n",
       "2       54        0        3      135      304      1.0      170        0   \n",
       "3       48        0        3      120      195      0.0      125        0   \n",
       "4       50        1        4      120        0      0.0      156        1   \n",
       "\n",
       "   Column10  Column14  Column7_0  Column7_1  Column7_2  Column11_1.0  \\\n",
       "0       0.0         1          1          0          0             0   \n",
       "1       2.5         1          1          0          0             0   \n",
       "2       0.0         0          1          0          0             1   \n",
       "3       0.0         0          1          0          0             0   \n",
       "4       0.0         3          0          1          0             1   \n",
       "\n",
       "   Column11_2.0  Column11_3.0  \n",
       "0             1             0  \n",
       "1             1             0  \n",
       "2             0             0  \n",
       "3             1             0  \n",
       "4             0             0  "
      ]
     },
     "execution_count": 7,
     "metadata": {},
     "output_type": "execute_result"
    }
   ],
   "source": [
    "#df = pd.get_dummies(data=df, columns=['Column3','Column7','Column11'])\n",
    "df = pd.get_dummies(df, prefix=['Column7','Column11'], columns=['Column7','Column11'])\n",
    "df.head()\n",
    "#df['Column11'].unique()"
   ]
  },
  {
   "cell_type": "code",
   "execution_count": 8,
   "metadata": {},
   "outputs": [],
   "source": [
    "from sklearn.preprocessing import StandardScaler\n",
    "cols = ['Column1','Column2','Column3','Column4','Column5','Column6','Column7','Column8','Column9','Column10','Column11','Column12','Column13',]\n",
    "cols_to_norm = ['Column4','Column5','Column8','Column10']\n",
    "df[cols_to_norm] = StandardScaler().fit_transform(df[cols_to_norm])\n",
    "#df.describe()\n",
    "#df['Column10'].unique()"
   ]
  },
  {
   "cell_type": "code",
   "execution_count": 9,
   "metadata": {},
   "outputs": [
    {
     "name": "stdout",
     "output_type": "stream",
     "text": [
      "Index(['Column1', 'Column2', 'Column3', 'Column4', 'Column5', 'Column6',\n",
      "       'Column8', 'Column9', 'Column10', 'Column14', 'Column7_0', 'Column7_1',\n",
      "       'Column7_2', 'Column11_1.0', 'Column11_2.0', 'Column11_3.0'],\n",
      "      dtype='object')\n"
     ]
    },
    {
     "data": {
      "text/plain": [
       "<matplotlib.axes._subplots.AxesSubplot at 0x7fb22a092048>"
      ]
     },
     "execution_count": 9,
     "metadata": {},
     "output_type": "execute_result"
    },
    {
     "data": {
      "image/png": "[encoded data removed]",
      "text/plain": [
       "<Figure size 432x288 with 1 Axes>"
      ]
     },
     "metadata": {},
     "output_type": "display_data"
    }
   ],
   "source": [
    "import seaborn as sns\n",
    "\n",
    "print(df.columns)\n",
    "\n",
    "sns.boxplot(data=df['Column4'])\n",
    "#df = df.drop(df[df.Column4 > 2].index)\n",
    "#df = df.drop(df[(df.Column4 > 2) & (df.Column14 < 2)].index)\n",
    "#df = df.drop(df[df.Column4 < -1].index)\n",
    "#df = df.drop(df[(df.Column4 < -1) & (df.Column14 < 2)].index)"
   ]
  },
  {
   "cell_type": "code",
   "execution_count": 10,
   "metadata": {},
   "outputs": [
    {
     "data": {
      "image/png": "[encoded data removed]",
      "text/plain": [
       "<Figure size 432x288 with 1 Axes>"
      ]
     },
     "metadata": {},
     "output_type": "display_data"
    }
   ],
   "source": [
    "sns.boxplot(data=df['Column5'])\n",
    "#df = df.drop(df[df.Column5 > 2].index)\n",
    "df = df.drop(df[df.Column5 < -1].index)\n",
    "#df = df.drop(df[(df.Column5 < -1) & (df.Column14 < 2)].index)"
   ]
  },
  {
   "cell_type": "code",
   "execution_count": 11,
   "metadata": {},
   "outputs": [
    {
     "data": {
      "text/plain": [
       "<matplotlib.axes._subplots.AxesSubplot at 0x7fb2264accc0>"
      ]
     },
     "execution_count": 11,
     "metadata": {},
     "output_type": "execute_result"
    },
    {
     "data": {
      "image/png": "[encoded data removed]",
      "text/plain": [
       "<Figure size 432x288 with 1 Axes>"
      ]
     },
     "metadata": {},
     "output_type": "display_data"
    }
   ],
   "source": [
    "sns.boxplot(data=df['Column8'])"
   ]
  },
  {
   "cell_type": "code",
   "execution_count": 12,
   "metadata": {},
   "outputs": [
    {
     "data": {
      "image/png": "[encoded data removed]",
      "text/plain": [
       "<Figure size 432x288 with 1 Axes>"
      ]
     },
     "metadata": {},
     "output_type": "display_data"
    }
   ],
   "source": [
    "sns.boxplot(data=df['Column10'])\n",
    "df = df.drop(df[df.Column5 > 1].index)\n",
    "#df = df.drop(df[(df.Column5 > 1) & (df.Column14 < 2)].index)"
   ]
  },
  {
   "cell_type": "code",
   "execution_count": 13,
   "metadata": {},
   "outputs": [
    {
     "data": {
      "text/plain": [
       "<matplotlib.axes._subplots.AxesSubplot at 0x7fb2263e9978>"
      ]
     },
     "execution_count": 13,
     "metadata": {},
     "output_type": "execute_result"
    },
    {
     "data": {
      "image/png": "[encoded data removed]",
      "text/plain": [
       "<Figure size 720x576 with 2 Axes>"
      ]
     },
     "metadata": {},
     "output_type": "display_data"
    }
   ],
   "source": [
    "import seaborn as sns\n",
    "\n",
    "f, ax = plt.subplots(figsize=(10, 8))\n",
    "corr = df.corr()\n",
    "sns.heatmap(corr, mask=np.zeros_like(corr, dtype=np.bool), cmap=sns.diverging_palette(220, 10, as_cmap=True),\n",
    "            square=True, ax=ax)"
   ]
  },
  {
   "cell_type": "code",
   "execution_count": 14,
   "metadata": {},
   "outputs": [],
   "source": [
    "#df.drop(['Column4', 'Column7_2'], axis=1)"
   ]
  },
  {
   "cell_type": "code",
   "execution_count": 15,
   "metadata": {},
   "outputs": [],
   "source": [
    "y = df['Column14']\n",
    "X = df.drop(['Column14'], axis=1)"
   ]
  },
  {
   "cell_type": "code",
   "execution_count": 16,
   "metadata": {},
   "outputs": [],
   "source": [
    "from sklearn.model_selection import train_test_split\n",
    "from sklearn.metrics import classification_report,confusion_matrix\n",
    "\n",
    "X_train, X_test, y_train, y_test = train_test_split(X, y, test_size = 0.1, random_state=50)"
   ]
  },
  {
   "cell_type": "markdown",
   "metadata": {},
   "source": [
    "## Decision Tree"
   ]
  },
  {
   "cell_type": "code",
   "execution_count": 17,
   "metadata": {},
   "outputs": [],
   "source": [
    "from sklearn.metrics import accuracy_score"
   ]
  },
  {
   "cell_type": "code",
   "execution_count": 18,
   "metadata": {},
   "outputs": [],
   "source": [
    "from sklearn import tree\n",
    "dt = tree.DecisionTreeClassifier()\n",
    "dt.fit(X_train, y_train)\n",
    "dt_pred = dt.predict(X_test)"
   ]
  },
  {
   "cell_type": "code",
   "execution_count": 19,
   "metadata": {},
   "outputs": [
    {
     "name": "stdout",
     "output_type": "stream",
     "text": [
      "Accuracy : 0.6923076923076923\n",
      "             precision    recall  f1-score   support\n",
      "\n",
      "          0       0.82      0.85      0.84        33\n",
      "          1       0.43      0.50      0.46        12\n",
      "          2       1.00      0.25      0.40         4\n",
      "          3       0.33      0.50      0.40         2\n",
      "          4       0.00      0.00      0.00         1\n",
      "\n",
      "avg / total       0.71      0.69      0.68        52\n",
      "\n"
     ]
    },
    {
     "name": "stderr",
     "output_type": "stream",
     "text": [
      "/home/budiman/anaconda3/lib/python3.6/site-packages/sklearn/metrics/classification.py:1135: UndefinedMetricWarning: Precision and F-score are ill-defined and being set to 0.0 in labels with no predicted samples.\n",
      "  'precision', 'predicted', average, warn_for)\n"
     ]
    }
   ],
   "source": [
    "print('Accuracy : ' + str(accuracy_score(y_test, dt_pred)))\n",
    "print(classification_report(y_test,dt_pred))"
   ]
  },
  {
   "cell_type": "code",
   "execution_count": 20,
   "metadata": {},
   "outputs": [],
   "source": [
    "from sklearn.model_selection import KFold\n",
    "from sklearn import metrics\n",
    "\n",
    "# create a 10-fold cross validation\n",
    "kf = KFold(n_splits=10, random_state=50)"
   ]
  },
  {
   "cell_type": "code",
   "execution_count": 21,
   "metadata": {},
   "outputs": [
    {
     "name": "stdout",
     "output_type": "stream",
     "text": [
      "Accuracy of Decision Tree :  0.5442684766214178\n"
     ]
    }
   ],
   "source": [
    "# create a desision tree model\n",
    "\n",
    "accuracy = 0\n",
    "for train_index, test_index in kf.split(X):\n",
    "    X_train, X_test = X.iloc[train_index], X.iloc[test_index]\n",
    "    y_train, y_test = y.iloc[train_index], y.iloc[test_index]\n",
    "    \n",
    "    dt = tree.DecisionTreeClassifier()\n",
    "    dt.fit(X_train, y_train)\n",
    "    dt_pred = dt.predict(X_test)\n",
    "    accuracy += metrics.accuracy_score(y_test, dt_pred)\n",
    "    \n",
    "    \n",
    "print (\"Accuracy of Decision Tree : \", accuracy / kf.get_n_splits())"
   ]
  },
  {
   "cell_type": "markdown",
   "metadata": {},
   "source": [
    "## Naive Bayes"
   ]
  },
  {
   "cell_type": "code",
   "execution_count": 22,
   "metadata": {},
   "outputs": [],
   "source": [
    "from sklearn.naive_bayes import GaussianNB"
   ]
  },
  {
   "cell_type": "code",
   "execution_count": 23,
   "metadata": {},
   "outputs": [],
   "source": [
    "gnb = GaussianNB()\n",
    "gnb.fit(X_train, y_train)\n",
    "gnb_pred = gnb.predict(X_test)"
   ]
  },
  {
   "cell_type": "code",
   "execution_count": 24,
   "metadata": {},
   "outputs": [
    {
     "name": "stdout",
     "output_type": "stream",
     "text": [
      "Accuracy : 0.7254901960784313\n",
      "             precision    recall  f1-score   support\n",
      "\n",
      "          0       0.88      0.94      0.91        32\n",
      "          1       0.60      0.55      0.57        11\n",
      "          2       0.00      0.00      0.00         2\n",
      "          3       1.00      0.17      0.29         6\n",
      "          4       0.00      0.00      0.00         0\n",
      "\n",
      "avg / total       0.80      0.73      0.73        51\n",
      "\n"
     ]
    },
    {
     "name": "stderr",
     "output_type": "stream",
     "text": [
      "/home/budiman/anaconda3/lib/python3.6/site-packages/sklearn/metrics/classification.py:1137: UndefinedMetricWarning: Recall and F-score are ill-defined and being set to 0.0 in labels with no true samples.\n",
      "  'recall', 'true', average, warn_for)\n"
     ]
    }
   ],
   "source": [
    "print('Accuracy : ' + str(accuracy_score(y_test, gnb_pred)))\n",
    "print(classification_report(y_test,gnb_pred))"
   ]
  },
  {
   "cell_type": "code",
   "execution_count": 25,
   "metadata": {},
   "outputs": [
    {
     "name": "stdout",
     "output_type": "stream",
     "text": [
      "Accuracy of Naive Bayes :  0.5737179487179487\n"
     ]
    }
   ],
   "source": [
    "accuracy = 0\n",
    "for train_index, test_index in kf.split(X):\n",
    "    X_train, X_test = X.iloc[train_index], X.iloc[test_index]\n",
    "    y_train, y_test = y.iloc[train_index], y.iloc[test_index]\n",
    "    \n",
    "    gnb = GaussianNB()\n",
    "    gnb.fit(X_train, y_train)\n",
    "    gnb_pred = gnb.predict(X_test)\n",
    "    accuracy += metrics.accuracy_score(y_test, gnb_pred)\n",
    "    \n",
    "    \n",
    "print (\"Accuracy of Naive Bayes : \", accuracy / kf.get_n_splits())"
   ]
  },
  {
   "cell_type": "markdown",
   "metadata": {},
   "source": [
    "## kNN"
   ]
  },
  {
   "cell_type": "code",
   "execution_count": 26,
   "metadata": {},
   "outputs": [],
   "source": [
    "from sklearn.neighbors import KNeighborsClassifier "
   ]
  },
  {
   "cell_type": "code",
   "execution_count": 27,
   "metadata": {},
   "outputs": [],
   "source": [
    "train_acc = []\n",
    "test_acc  = []\n",
    "for k in range(1,100):\n",
    "    knn = KNeighborsClassifier(n_neighbors=k)\n",
    "    knn.fit(X_train, y_train)\n",
    "    train_acc.append(knn.score(X_train ,y_train))\n",
    "    test_acc.append(knn.score(X_test ,y_test))"
   ]
  },
  {
   "cell_type": "code",
   "execution_count": 28,
   "metadata": {},
   "outputs": [
    {
     "data": {
      "text/plain": [
       "[<matplotlib.lines.Line2D at 0x7fb223713b70>]"
      ]
     },
     "execution_count": 28,
     "metadata": {},
     "output_type": "execute_result"
    },
    {
     "data": {
      "image/png": "[encoded data removed]",
      "text/plain": [
       "<Figure size 432x288 with 1 Axes>"
      ]
     },
     "metadata": {},
     "output_type": "display_data"
    }
   ],
   "source": [
    "plt.plot(train_acc)\n",
    "plt.plot(test_acc)"
   ]
  },
  {
   "cell_type": "code",
   "execution_count": 39,
   "metadata": {},
   "outputs": [],
   "source": [
    "knn = KNeighborsClassifier(n_neighbors=10)\n",
    "knn.fit(X_train, y_train)\n",
    "knn_pred = knn.predict(X_test)"
   ]
  },
  {
   "cell_type": "code",
   "execution_count": 40,
   "metadata": {},
   "outputs": [
    {
     "name": "stdout",
     "output_type": "stream",
     "text": [
      "Accuracy : 0.6326530612244898\n",
      "             precision    recall  f1-score   support\n",
      "\n",
      "          0       0.67      0.96      0.79        27\n",
      "          1       0.67      0.31      0.42        13\n",
      "          2       0.25      0.25      0.25         4\n",
      "          3       0.00      0.00      0.00         4\n",
      "          4       0.00      0.00      0.00         1\n",
      "\n",
      "avg / total       0.56      0.63      0.57        49\n",
      "\n"
     ]
    },
    {
     "name": "stderr",
     "output_type": "stream",
     "text": [
      "/home/budiman/anaconda3/lib/python3.6/site-packages/sklearn/metrics/classification.py:1135: UndefinedMetricWarning: Precision and F-score are ill-defined and being set to 0.0 in labels with no predicted samples.\n",
      "  'precision', 'predicted', average, warn_for)\n"
     ]
    }
   ],
   "source": [
    "print('Accuracy : ' + str(accuracy_score(y_test, knn_pred)))\n",
    "print(classification_report(y_test,knn_pred))"
   ]
  },
  {
   "cell_type": "code",
   "execution_count": 31,
   "metadata": {},
   "outputs": [
    {
     "name": "stdout",
     "output_type": "stream",
     "text": [
      "Accuracy of kNN :  0.5929110105580693\n"
     ]
    }
   ],
   "source": [
    "accuracy = 0\n",
    "for train_index, test_index in kf.split(X):\n",
    "    X_train, X_test = X.iloc[train_index], X.iloc[test_index]\n",
    "    y_train, y_test = y.iloc[train_index], y.iloc[test_index]\n",
    "    \n",
    "    knn = KNeighborsClassifier(n_neighbors=15)\n",
    "    knn.fit(X_train, y_train)\n",
    "    knn_pred = knn.predict(X_test)\n",
    "    accuracy += metrics.accuracy_score(y_test, knn_pred)\n",
    "    \n",
    "    \n",
    "print (\"Accuracy of kNN : \", accuracy / kf.get_n_splits())"
   ]
  },
  {
   "cell_type": "markdown",
   "metadata": {},
   "source": [
    "## MLPC"
   ]
  },
  {
   "cell_type": "code",
   "execution_count": 32,
   "metadata": {},
   "outputs": [],
   "source": [
    "from sklearn.neural_network import MLPClassifier"
   ]
  },
  {
   "cell_type": "code",
   "execution_count": 33,
   "metadata": {},
   "outputs": [],
   "source": [
    "mlpc = MLPClassifier(solver='lbfgs', hidden_layer_sizes=(112,14,), random_state=123, max_iter=1000)\n",
    "mlpc = mlpc.fit(X_train, y_train)\n",
    "mlpc_pred = mlpc.predict(X_test)"
   ]
  },
  {
   "cell_type": "code",
   "execution_count": 34,
   "metadata": {},
   "outputs": [
    {
     "name": "stdout",
     "output_type": "stream",
     "text": [
      "Accuracy : 0.803921568627451\n",
      "             precision    recall  f1-score   support\n",
      "\n",
      "          0       0.91      1.00      0.96        32\n",
      "          1       0.80      0.73      0.76        11\n",
      "          2       0.33      0.50      0.40         2\n",
      "          3       0.00      0.00      0.00         6\n",
      "          4       0.00      0.00      0.00         0\n",
      "\n",
      "avg / total       0.76      0.80      0.78        51\n",
      "\n"
     ]
    },
    {
     "name": "stderr",
     "output_type": "stream",
     "text": [
      "/home/budiman/anaconda3/lib/python3.6/site-packages/sklearn/metrics/classification.py:1135: UndefinedMetricWarning: Precision and F-score are ill-defined and being set to 0.0 in labels with no predicted samples.\n",
      "  'precision', 'predicted', average, warn_for)\n",
      "/home/budiman/anaconda3/lib/python3.6/site-packages/sklearn/metrics/classification.py:1137: UndefinedMetricWarning: Recall and F-score are ill-defined and being set to 0.0 in labels with no true samples.\n",
      "  'recall', 'true', average, warn_for)\n"
     ]
    }
   ],
   "source": [
    "print('Accuracy : ' + str(accuracy_score(y_test, mlpc_pred)))\n",
    "print(classification_report(y_test,mlpc_pred))"
   ]
  },
  {
   "cell_type": "code",
   "execution_count": 35,
   "metadata": {},
   "outputs": [
    {
     "name": "stdout",
     "output_type": "stream",
     "text": [
      "Cross Validation Result\n",
      "\n",
      "Naive Bayes\n",
      "\n",
      "K Fold\n",
      "Accuracy  :  0.5737179487179487\n",
      "Precision :  0.5737179487179487\n",
      "Recall    :  0.5737179487179487\n",
      "F1 score  :  0.5737179487179488\n",
      "\n",
      "\n",
      "Stratified K Fold\n",
      "Accuracy  :  0.5716298973064472\n",
      "Precision :  0.5716298973064472\n",
      "Recall    :  0.5716298973064472\n",
      "F1 score  :  0.5716298973064472\n",
      "\n",
      "\n",
      "Decision Tree\n",
      "\n",
      "K Fold\n",
      "Accuracy  :  0.5268099547511311\n",
      "Precision :  0.5268099547511311\n",
      "Recall    :  0.5268099547511311\n",
      "F1 score  :  0.5268099547511311\n",
      "\n",
      "\n",
      "Stratified K Fold\n",
      "Accuracy  :  0.5447061841024106\n",
      "Precision :  0.5447061841024106\n",
      "Recall    :  0.5447061841024106\n",
      "F1 score  :  0.5447061841024105\n",
      "\n",
      "\n",
      "kNN\n",
      "\n",
      "K Fold\n",
      "Accuracy  :  0.5868778280542986\n",
      "Precision :  0.5868778280542986\n",
      "Recall    :  0.5868778280542986\n",
      "F1 score  :  0.5868778280542987\n",
      "\n",
      "\n",
      "Stratified K Fold\n",
      "Accuracy  :  0.5869119902758716\n",
      "Precision :  0.5869119902758716\n",
      "Recall    :  0.5869119902758716\n",
      "F1 score  :  0.5869119902758716\n",
      "\n",
      "\n",
      "MLPC\n",
      "\n",
      "K Fold\n",
      "Accuracy  :  0.6240573152337857\n",
      "Precision :  0.6240573152337857\n",
      "Recall    :  0.6240573152337857\n",
      "F1 score  :  0.6240573152337858\n",
      "\n",
      "\n",
      "Stratified K Fold\n",
      "Accuracy  :  0.626291721655603\n",
      "Precision :  0.626291721655603\n",
      "Recall    :  0.626291721655603\n",
      "F1 score  :  0.626291721655603\n",
      "\n",
      "\n"
     ]
    }
   ],
   "source": [
    "from sklearn import tree\n",
    "from sklearn.neighbors import KNeighborsClassifier \n",
    "from sklearn.neural_network import MLPClassifier\n",
    "from sklearn.model_selection import KFold\n",
    "from sklearn.model_selection import StratifiedKFold\n",
    "from sklearn import metrics\n",
    "\n",
    "# create a 10-fold cross validation\n",
    "kf = KFold(n_splits=10, random_state=50)\n",
    "skf = StratifiedKFold(n_splits=10, random_state=50)\n",
    "\n",
    "print('Cross Validation Result\\n')\n",
    "#name = ['Decision Tree', 'Naive Bayes', 'kNN', 'MLPC']\n",
    "#cons = [dt,gnb,knn,mlpc]\n",
    "\n",
    "name = ['Naive Bayes','Decision Tree','kNN','MLPC']\n",
    "cons = [GaussianNB(),tree.DecisionTreeClassifier(),KNeighborsClassifier(n_neighbors=10),MLPClassifier(solver='lbfgs', hidden_layer_sizes=(112,14,), random_state=123, max_iter=1000)]\n",
    "\n",
    "for algo, c in zip(name,cons):\n",
    "    print(algo + '\\n')\n",
    "    print('K Fold')\n",
    "    accuracy = 0\n",
    "    precision = 0\n",
    "    recall = 0\n",
    "    for train_index, test_index in kf.split(X):\n",
    "        X_train, X_test = X.iloc[train_index], X.iloc[test_index]\n",
    "        y_train, y_test = y.iloc[train_index], y.iloc[test_index]\n",
    "\n",
    "        mlpc = c\n",
    "\n",
    "        mlpc = mlpc.fit(X_train, y_train)\n",
    "        mlpc_pred = mlpc.predict(X_test)\n",
    "        accuracy += metrics.accuracy_score(y_test, mlpc_pred)\n",
    "        precision += metrics.precision_score(y_test, mlpc_pred, average='micro')\n",
    "        recall += metrics.recall_score(y_test, mlpc_pred, average='micro')\n",
    "\n",
    "    print (\"Accuracy  : \", accuracy / kf.get_n_splits())\n",
    "    print (\"Precision : \", precision / kf.get_n_splits())\n",
    "    print (\"Recall    : \", recall / kf.get_n_splits())\n",
    "    print (\"F1 score  : \", 2*(((precision*recall)/100)/((precision+recall)/10)))\n",
    "    print('\\n')\n",
    "    \n",
    "    print('Stratified K Fold')\n",
    "    accuracy = 0\n",
    "    precision = 0\n",
    "    recall = 0\n",
    "    for train_index, test_index in skf.split(X,y):\n",
    "        X_train, X_test = X.iloc[train_index], X.iloc[test_index]\n",
    "        y_train, y_test = y.iloc[train_index], y.iloc[test_index]\n",
    "\n",
    "        mlpc = c\n",
    "\n",
    "        mlpc = mlpc.fit(X_train, y_train)\n",
    "        mlpc_pred = mlpc.predict(X_test)\n",
    "        accuracy += metrics.accuracy_score(y_test, mlpc_pred)\n",
    "        precision += metrics.precision_score(y_test, mlpc_pred, average='micro')\n",
    "        recall += metrics.recall_score(y_test, mlpc_pred, average='micro')\n",
    "\n",
    "    print (\"Accuracy  : \", accuracy / kf.get_n_splits())\n",
    "    print (\"Precision : \", precision / kf.get_n_splits())\n",
    "    print (\"Recall    : \", recall / kf.get_n_splits())\n",
    "    print (\"F1 score  : \", 2*(((precision*recall)/100)/((precision+recall)/10)))\n",
    "    print('\\n')"
   ]
  },
  {
   "cell_type": "code",
   "execution_count": 36,
   "metadata": {},
   "outputs": [],
   "source": [
    "from sklearn.externals import joblib\n",
    "\n",
    "# save naive bayes\n",
    "#joblib.dump(gnb, 'naive_bayes.out')\n",
    "\n",
    "# save decision tree\n",
    "#joblib.dump(dt, 'decision_tree.out')\n",
    "\n",
    "# save k nearest neighbors\n",
    "#joblib.dump(knn, 'k_nearest.out')\n",
    "\n",
    "# save multi layer perceptron\n",
    "#joblib.dump(mlpc, 'multi_layer_perceptron.out')"
   ]
  },
  {
   "cell_type": "code",
   "execution_count": null,
   "metadata": {},
   "outputs": [],
   "source": []
  }
 ],
 "metadata": {
  "kernelspec": {
   "display_name": "Python 3",
   "language": "python",
   "name": "python3"
  },
  "language_info": {
   "codemirror_mode": {
    "name": "ipython",
    "version": 3
   },
   "file_extension": ".py",
   "mimetype": "text/x-python",
   "name": "python",
   "nbconvert_exporter": "python",
   "pygments_lexer": "ipython3",
   "version": "3.6.5"
  }
 },
 "nbformat": 4,
 "nbformat_minor": 2
}
