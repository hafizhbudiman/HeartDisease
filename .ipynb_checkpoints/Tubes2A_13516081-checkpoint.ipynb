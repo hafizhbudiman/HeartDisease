{
 "cells": [
  {
   "cell_type": "markdown",
   "metadata": {},
   "source": [
    "# Tugas Besar IF3170\n",
    "## Aplikasi Berbasis Web untuk Klasifikasi Penyakit Jantung Berdasarkan Data Klinis \n",
    "\n",
    "13516081 Rabbi Fijar Mayoza <br>\n",
    "13516106 Kurniandha Sukma Yunastrian <br>\n",
    "13516108 Krishna Aurelio Noviandri <br>\n",
    "13516137 Hafizh Budiman <br>\n",
    "13516148 Trian Annas Thoriq Sumarjadi <br>"
   ]
  },
  {
   "cell_type": "code",
   "execution_count": 1,
   "metadata": {},
   "outputs": [],
   "source": [
    "import pandas as pd\n",
    "import numpy as np\n",
    "import matplotlib.pyplot as plt\n",
    "%matplotlib inline"
   ]
  },
  {
   "cell_type": "code",
   "execution_count": 2,
   "metadata": {},
   "outputs": [],
   "source": [
    "# Read Data train\n",
    "df = pd.read_csv('data/tubes2_HeartDisease_train.csv')"
   ]
  },
  {
   "cell_type": "code",
   "execution_count": 3,
   "metadata": {},
   "outputs": [
    {
     "data": {
      "text/html": [
       "<div>\n",
       "<style scoped>\n",
       "    .dataframe tbody tr th:only-of-type {\n",
       "        vertical-align: middle;\n",
       "    }\n",
       "\n",
       "    .dataframe tbody tr th {\n",
       "        vertical-align: top;\n",
       "    }\n",
       "\n",
       "    .dataframe thead th {\n",
       "        text-align: right;\n",
       "    }\n",
       "</style>\n",
       "<table border=\"1\" class=\"dataframe\">\n",
       "  <thead>\n",
       "    <tr style=\"text-align: right;\">\n",
       "      <th></th>\n",
       "      <th>Column1</th>\n",
       "      <th>Column2</th>\n",
       "      <th>Column3</th>\n",
       "      <th>Column4</th>\n",
       "      <th>Column5</th>\n",
       "      <th>Column6</th>\n",
       "      <th>Column7</th>\n",
       "      <th>Column8</th>\n",
       "      <th>Column9</th>\n",
       "      <th>Column10</th>\n",
       "      <th>Column11</th>\n",
       "      <th>Column12</th>\n",
       "      <th>Column13</th>\n",
       "      <th>Column14</th>\n",
       "    </tr>\n",
       "  </thead>\n",
       "  <tbody>\n",
       "    <tr>\n",
       "      <th>0</th>\n",
       "      <td>54</td>\n",
       "      <td>1</td>\n",
       "      <td>4</td>\n",
       "      <td>125</td>\n",
       "      <td>216</td>\n",
       "      <td>0</td>\n",
       "      <td>0</td>\n",
       "      <td>140</td>\n",
       "      <td>0</td>\n",
       "      <td>0</td>\n",
       "      <td>?</td>\n",
       "      <td>?</td>\n",
       "      <td>?</td>\n",
       "      <td>1</td>\n",
       "    </tr>\n",
       "    <tr>\n",
       "      <th>1</th>\n",
       "      <td>55</td>\n",
       "      <td>1</td>\n",
       "      <td>4</td>\n",
       "      <td>158</td>\n",
       "      <td>217</td>\n",
       "      <td>0</td>\n",
       "      <td>0</td>\n",
       "      <td>110</td>\n",
       "      <td>1</td>\n",
       "      <td>2.5</td>\n",
       "      <td>2</td>\n",
       "      <td>?</td>\n",
       "      <td>?</td>\n",
       "      <td>1</td>\n",
       "    </tr>\n",
       "    <tr>\n",
       "      <th>2</th>\n",
       "      <td>54</td>\n",
       "      <td>0</td>\n",
       "      <td>3</td>\n",
       "      <td>135</td>\n",
       "      <td>304</td>\n",
       "      <td>1</td>\n",
       "      <td>0</td>\n",
       "      <td>170</td>\n",
       "      <td>0</td>\n",
       "      <td>0</td>\n",
       "      <td>1</td>\n",
       "      <td>0</td>\n",
       "      <td>3</td>\n",
       "      <td>0</td>\n",
       "    </tr>\n",
       "    <tr>\n",
       "      <th>3</th>\n",
       "      <td>48</td>\n",
       "      <td>0</td>\n",
       "      <td>3</td>\n",
       "      <td>120</td>\n",
       "      <td>195</td>\n",
       "      <td>0</td>\n",
       "      <td>0</td>\n",
       "      <td>125</td>\n",
       "      <td>0</td>\n",
       "      <td>0</td>\n",
       "      <td>?</td>\n",
       "      <td>?</td>\n",
       "      <td>?</td>\n",
       "      <td>0</td>\n",
       "    </tr>\n",
       "    <tr>\n",
       "      <th>4</th>\n",
       "      <td>50</td>\n",
       "      <td>1</td>\n",
       "      <td>4</td>\n",
       "      <td>120</td>\n",
       "      <td>0</td>\n",
       "      <td>0</td>\n",
       "      <td>1</td>\n",
       "      <td>156</td>\n",
       "      <td>1</td>\n",
       "      <td>0</td>\n",
       "      <td>1</td>\n",
       "      <td>?</td>\n",
       "      <td>6</td>\n",
       "      <td>3</td>\n",
       "    </tr>\n",
       "  </tbody>\n",
       "</table>\n",
       "</div>"
      ],
      "text/plain": [
       "   Column1  Column2  Column3 Column4 Column5 Column6 Column7 Column8 Column9  \\\n",
       "0       54        1        4     125     216       0       0     140       0   \n",
       "1       55        1        4     158     217       0       0     110       1   \n",
       "2       54        0        3     135     304       1       0     170       0   \n",
       "3       48        0        3     120     195       0       0     125       0   \n",
       "4       50        1        4     120       0       0       1     156       1   \n",
       "\n",
       "  Column10 Column11 Column12 Column13  Column14  \n",
       "0        0        ?        ?        ?         1  \n",
       "1      2.5        2        ?        ?         1  \n",
       "2        0        1        0        3         0  \n",
       "3        0        ?        ?        ?         0  \n",
       "4        0        1        ?        6         3  "
      ]
     },
     "execution_count": 3,
     "metadata": {},
     "output_type": "execute_result"
    }
   ],
   "source": [
    "df.head()"
   ]
  },
  {
   "cell_type": "markdown",
   "metadata": {},
   "source": [
    "## Feature Engineering Phase"
   ]
  },
  {
   "cell_type": "code",
   "execution_count": 4,
   "metadata": {},
   "outputs": [
    {
     "data": {
      "text/plain": [
       "0    349\n",
       "1    225\n",
       "2     92\n",
       "3     90\n",
       "4     23\n",
       "Name: Column14, dtype: int64"
      ]
     },
     "execution_count": 4,
     "metadata": {},
     "output_type": "execute_result"
    }
   ],
   "source": [
    "# Show number of value in column14\n",
    "df['Column14'].value_counts()"
   ]
  },
  {
   "cell_type": "code",
   "execution_count": 5,
   "metadata": {},
   "outputs": [
    {
     "name": "stdout",
     "output_type": "stream",
     "text": [
      "779\n",
      "Percentage of Empty in Each Attributes\n"
     ]
    },
    {
     "data": {
      "text/plain": [
       "Column1     0.000000\n",
       "Column2     0.000000\n",
       "Column3     0.000000\n",
       "Column4     0.060334\n",
       "Column5     0.030809\n",
       "Column6     0.100128\n",
       "Column7     0.002567\n",
       "Column8     0.056483\n",
       "Column9     0.056483\n",
       "Column10    0.062901\n",
       "Column11    0.336329\n",
       "Column12    0.659820\n",
       "Column13    0.523748\n",
       "Column14    0.000000\n",
       "dtype: float64"
      ]
     },
     "execution_count": 5,
     "metadata": {},
     "output_type": "execute_result"
    }
   ],
   "source": [
    "# Replace ? with nan\n",
    "df.replace({\"?\":np.nan}, inplace=True)\n",
    "print(len(df))\n",
    "print(\"Percentage of Empty in Each Attributes\")\n",
    "df.isnull().sum(axis = 0)/len(df)"
   ]
  },
  {
   "cell_type": "code",
   "execution_count": 6,
   "metadata": {
    "scrolled": true
   },
   "outputs": [
    {
     "data": {
      "text/html": [
       "<div>\n",
       "<style scoped>\n",
       "    .dataframe tbody tr th:only-of-type {\n",
       "        vertical-align: middle;\n",
       "    }\n",
       "\n",
       "    .dataframe tbody tr th {\n",
       "        vertical-align: top;\n",
       "    }\n",
       "\n",
       "    .dataframe thead th {\n",
       "        text-align: right;\n",
       "    }\n",
       "</style>\n",
       "<table border=\"1\" class=\"dataframe\">\n",
       "  <thead>\n",
       "    <tr style=\"text-align: right;\">\n",
       "      <th></th>\n",
       "      <th>Column1</th>\n",
       "      <th>Column2</th>\n",
       "      <th>Column3</th>\n",
       "      <th>Column4</th>\n",
       "      <th>Column5</th>\n",
       "      <th>Column6</th>\n",
       "      <th>Column7</th>\n",
       "      <th>Column8</th>\n",
       "      <th>Column9</th>\n",
       "      <th>Column10</th>\n",
       "      <th>Column11</th>\n",
       "      <th>Column14</th>\n",
       "    </tr>\n",
       "  </thead>\n",
       "  <tbody>\n",
       "    <tr>\n",
       "      <th>count</th>\n",
       "      <td>704.000000</td>\n",
       "      <td>704.000000</td>\n",
       "      <td>704.000000</td>\n",
       "      <td>704.000000</td>\n",
       "      <td>704.000000</td>\n",
       "      <td>704.000000</td>\n",
       "      <td>704.000000</td>\n",
       "      <td>704.000000</td>\n",
       "      <td>704.000000</td>\n",
       "      <td>704.000000</td>\n",
       "      <td>704.000000</td>\n",
       "      <td>704.000000</td>\n",
       "    </tr>\n",
       "    <tr>\n",
       "      <th>mean</th>\n",
       "      <td>53.255682</td>\n",
       "      <td>0.765625</td>\n",
       "      <td>3.274148</td>\n",
       "      <td>132.207386</td>\n",
       "      <td>202.805398</td>\n",
       "      <td>0.127841</td>\n",
       "      <td>0.606534</td>\n",
       "      <td>138.427557</td>\n",
       "      <td>0.396307</td>\n",
       "      <td>4.037074</td>\n",
       "      <td>1.826705</td>\n",
       "      <td>0.968750</td>\n",
       "    </tr>\n",
       "    <tr>\n",
       "      <th>std</th>\n",
       "      <td>9.384165</td>\n",
       "      <td>0.423909</td>\n",
       "      <td>0.925450</td>\n",
       "      <td>19.150067</td>\n",
       "      <td>108.706558</td>\n",
       "      <td>0.334150</td>\n",
       "      <td>0.822868</td>\n",
       "      <td>26.017127</td>\n",
       "      <td>0.489477</td>\n",
       "      <td>7.894214</td>\n",
       "      <td>0.537178</td>\n",
       "      <td>1.120933</td>\n",
       "    </tr>\n",
       "    <tr>\n",
       "      <th>min</th>\n",
       "      <td>28.000000</td>\n",
       "      <td>0.000000</td>\n",
       "      <td>1.000000</td>\n",
       "      <td>0.000000</td>\n",
       "      <td>0.000000</td>\n",
       "      <td>0.000000</td>\n",
       "      <td>0.000000</td>\n",
       "      <td>60.000000</td>\n",
       "      <td>0.000000</td>\n",
       "      <td>-2.600000</td>\n",
       "      <td>1.000000</td>\n",
       "      <td>0.000000</td>\n",
       "    </tr>\n",
       "    <tr>\n",
       "      <th>25%</th>\n",
       "      <td>46.000000</td>\n",
       "      <td>1.000000</td>\n",
       "      <td>3.000000</td>\n",
       "      <td>120.000000</td>\n",
       "      <td>179.750000</td>\n",
       "      <td>0.000000</td>\n",
       "      <td>0.000000</td>\n",
       "      <td>120.000000</td>\n",
       "      <td>0.000000</td>\n",
       "      <td>0.000000</td>\n",
       "      <td>2.000000</td>\n",
       "      <td>0.000000</td>\n",
       "    </tr>\n",
       "    <tr>\n",
       "      <th>50%</th>\n",
       "      <td>54.000000</td>\n",
       "      <td>1.000000</td>\n",
       "      <td>4.000000</td>\n",
       "      <td>130.000000</td>\n",
       "      <td>228.000000</td>\n",
       "      <td>0.000000</td>\n",
       "      <td>0.000000</td>\n",
       "      <td>140.000000</td>\n",
       "      <td>0.000000</td>\n",
       "      <td>1.000000</td>\n",
       "      <td>2.000000</td>\n",
       "      <td>1.000000</td>\n",
       "    </tr>\n",
       "    <tr>\n",
       "      <th>75%</th>\n",
       "      <td>60.000000</td>\n",
       "      <td>1.000000</td>\n",
       "      <td>4.000000</td>\n",
       "      <td>140.000000</td>\n",
       "      <td>270.000000</td>\n",
       "      <td>0.000000</td>\n",
       "      <td>1.000000</td>\n",
       "      <td>159.250000</td>\n",
       "      <td>1.000000</td>\n",
       "      <td>3.000000</td>\n",
       "      <td>2.000000</td>\n",
       "      <td>2.000000</td>\n",
       "    </tr>\n",
       "    <tr>\n",
       "      <th>max</th>\n",
       "      <td>77.000000</td>\n",
       "      <td>1.000000</td>\n",
       "      <td>4.000000</td>\n",
       "      <td>200.000000</td>\n",
       "      <td>529.000000</td>\n",
       "      <td>1.000000</td>\n",
       "      <td>2.000000</td>\n",
       "      <td>202.000000</td>\n",
       "      <td>1.000000</td>\n",
       "      <td>62.000000</td>\n",
       "      <td>3.000000</td>\n",
       "      <td>4.000000</td>\n",
       "    </tr>\n",
       "  </tbody>\n",
       "</table>\n",
       "</div>"
      ],
      "text/plain": [
       "          Column1     Column2     Column3     Column4     Column5     Column6  \\\n",
       "count  704.000000  704.000000  704.000000  704.000000  704.000000  704.000000   \n",
       "mean    53.255682    0.765625    3.274148  132.207386  202.805398    0.127841   \n",
       "std      9.384165    0.423909    0.925450   19.150067  108.706558    0.334150   \n",
       "min     28.000000    0.000000    1.000000    0.000000    0.000000    0.000000   \n",
       "25%     46.000000    1.000000    3.000000  120.000000  179.750000    0.000000   \n",
       "50%     54.000000    1.000000    4.000000  130.000000  228.000000    0.000000   \n",
       "75%     60.000000    1.000000    4.000000  140.000000  270.000000    0.000000   \n",
       "max     77.000000    1.000000    4.000000  200.000000  529.000000    1.000000   \n",
       "\n",
       "          Column7     Column8     Column9    Column10    Column11    Column14  \n",
       "count  704.000000  704.000000  704.000000  704.000000  704.000000  704.000000  \n",
       "mean     0.606534  138.427557    0.396307    4.037074    1.826705    0.968750  \n",
       "std      0.822868   26.017127    0.489477    7.894214    0.537178    1.120933  \n",
       "min      0.000000   60.000000    0.000000   -2.600000    1.000000    0.000000  \n",
       "25%      0.000000  120.000000    0.000000    0.000000    2.000000    0.000000  \n",
       "50%      0.000000  140.000000    0.000000    1.000000    2.000000    1.000000  \n",
       "75%      1.000000  159.250000    1.000000    3.000000    2.000000    2.000000  \n",
       "max      2.000000  202.000000    1.000000   62.000000    3.000000    4.000000  "
      ]
     },
     "execution_count": 6,
     "metadata": {},
     "output_type": "execute_result"
    }
   ],
   "source": [
    "# Drop column 12 and 13 because NaN value > 50%\n",
    "df.drop(['Column12', 'Column13'], axis=1, inplace=True)\n",
    "\n",
    "# Drop row with NaN value\n",
    "df.drop(df[pd.isnull(df['Column7'])].index, inplace=True)\n",
    "df.drop(df[pd.isnull(df['Column5'])].index, inplace=True)\n",
    "df.drop(df[pd.isnull(df['Column8'])].index, inplace=True)\n",
    "df.drop(df[pd.isnull(df['Column9'])].index, inplace=True)\n",
    "df.drop(df[pd.isnull(df['Column4'])].index, inplace=True)\n",
    "df.drop(df[pd.isnull(df['Column10'])].index, inplace=True)\n",
    "\n",
    "#Fill NaN with mode for column 11 and median for else\n",
    "for column in df.columns:\n",
    "    df[column] = pd.to_numeric(df[column])\n",
    "    if (column == 'Column11'):\n",
    "        df[column].fillna(df[column].mode()[0], inplace=True)\n",
    "    else:\n",
    "        df[column].fillna(df[column].median(), inplace=True)\n",
    "df.describe(include='all')"
   ]
  },
  {
   "cell_type": "code",
   "execution_count": 7,
   "metadata": {},
   "outputs": [
    {
     "data": {
      "text/html": [
       "<div>\n",
       "<style scoped>\n",
       "    .dataframe tbody tr th:only-of-type {\n",
       "        vertical-align: middle;\n",
       "    }\n",
       "\n",
       "    .dataframe tbody tr th {\n",
       "        vertical-align: top;\n",
       "    }\n",
       "\n",
       "    .dataframe thead th {\n",
       "        text-align: right;\n",
       "    }\n",
       "</style>\n",
       "<table border=\"1\" class=\"dataframe\">\n",
       "  <thead>\n",
       "    <tr style=\"text-align: right;\">\n",
       "      <th></th>\n",
       "      <th>Column1</th>\n",
       "      <th>Column2</th>\n",
       "      <th>Column3</th>\n",
       "      <th>Column4</th>\n",
       "      <th>Column5</th>\n",
       "      <th>Column6</th>\n",
       "      <th>Column8</th>\n",
       "      <th>Column9</th>\n",
       "      <th>Column10</th>\n",
       "      <th>Column14</th>\n",
       "      <th>Column7_0</th>\n",
       "      <th>Column7_1</th>\n",
       "      <th>Column7_2</th>\n",
       "      <th>Column11_1.0</th>\n",
       "      <th>Column11_2.0</th>\n",
       "      <th>Column11_3.0</th>\n",
       "    </tr>\n",
       "  </thead>\n",
       "  <tbody>\n",
       "    <tr>\n",
       "      <th>0</th>\n",
       "      <td>54</td>\n",
       "      <td>1</td>\n",
       "      <td>4</td>\n",
       "      <td>125</td>\n",
       "      <td>216</td>\n",
       "      <td>0.0</td>\n",
       "      <td>140</td>\n",
       "      <td>0</td>\n",
       "      <td>0.0</td>\n",
       "      <td>1</td>\n",
       "      <td>1</td>\n",
       "      <td>0</td>\n",
       "      <td>0</td>\n",
       "      <td>0</td>\n",
       "      <td>1</td>\n",
       "      <td>0</td>\n",
       "    </tr>\n",
       "    <tr>\n",
       "      <th>1</th>\n",
       "      <td>55</td>\n",
       "      <td>1</td>\n",
       "      <td>4</td>\n",
       "      <td>158</td>\n",
       "      <td>217</td>\n",
       "      <td>0.0</td>\n",
       "      <td>110</td>\n",
       "      <td>1</td>\n",
       "      <td>2.5</td>\n",
       "      <td>1</td>\n",
       "      <td>1</td>\n",
       "      <td>0</td>\n",
       "      <td>0</td>\n",
       "      <td>0</td>\n",
       "      <td>1</td>\n",
       "      <td>0</td>\n",
       "    </tr>\n",
       "    <tr>\n",
       "      <th>2</th>\n",
       "      <td>54</td>\n",
       "      <td>0</td>\n",
       "      <td>3</td>\n",
       "      <td>135</td>\n",
       "      <td>304</td>\n",
       "      <td>1.0</td>\n",
       "      <td>170</td>\n",
       "      <td>0</td>\n",
       "      <td>0.0</td>\n",
       "      <td>0</td>\n",
       "      <td>1</td>\n",
       "      <td>0</td>\n",
       "      <td>0</td>\n",
       "      <td>1</td>\n",
       "      <td>0</td>\n",
       "      <td>0</td>\n",
       "    </tr>\n",
       "    <tr>\n",
       "      <th>3</th>\n",
       "      <td>48</td>\n",
       "      <td>0</td>\n",
       "      <td>3</td>\n",
       "      <td>120</td>\n",
       "      <td>195</td>\n",
       "      <td>0.0</td>\n",
       "      <td>125</td>\n",
       "      <td>0</td>\n",
       "      <td>0.0</td>\n",
       "      <td>0</td>\n",
       "      <td>1</td>\n",
       "      <td>0</td>\n",
       "      <td>0</td>\n",
       "      <td>0</td>\n",
       "      <td>1</td>\n",
       "      <td>0</td>\n",
       "    </tr>\n",
       "    <tr>\n",
       "      <th>4</th>\n",
       "      <td>50</td>\n",
       "      <td>1</td>\n",
       "      <td>4</td>\n",
       "      <td>120</td>\n",
       "      <td>0</td>\n",
       "      <td>0.0</td>\n",
       "      <td>156</td>\n",
       "      <td>1</td>\n",
       "      <td>0.0</td>\n",
       "      <td>3</td>\n",
       "      <td>0</td>\n",
       "      <td>1</td>\n",
       "      <td>0</td>\n",
       "      <td>1</td>\n",
       "      <td>0</td>\n",
       "      <td>0</td>\n",
       "    </tr>\n",
       "  </tbody>\n",
       "</table>\n",
       "</div>"
      ],
      "text/plain": [
       "   Column1  Column2  Column3  Column4  Column5  Column6  Column8  Column9  \\\n",
       "0       54        1        4      125      216      0.0      140        0   \n",
       "1       55        1        4      158      217      0.0      110        1   \n",
       "2       54        0        3      135      304      1.0      170        0   \n",
       "3       48        0        3      120      195      0.0      125        0   \n",
       "4       50        1        4      120        0      0.0      156        1   \n",
       "\n",
       "   Column10  Column14  Column7_0  Column7_1  Column7_2  Column11_1.0  \\\n",
       "0       0.0         1          1          0          0             0   \n",
       "1       2.5         1          1          0          0             0   \n",
       "2       0.0         0          1          0          0             1   \n",
       "3       0.0         0          1          0          0             0   \n",
       "4       0.0         3          0          1          0             1   \n",
       "\n",
       "   Column11_2.0  Column11_3.0  \n",
       "0             1             0  \n",
       "1             1             0  \n",
       "2             0             0  \n",
       "3             1             0  \n",
       "4             0             0  "
      ]
     },
     "execution_count": 7,
     "metadata": {},
     "output_type": "execute_result"
    }
   ],
   "source": [
    "#Add dummies to column with qualitative data\n",
    "df = pd.get_dummies(df, prefix=['Column7','Column11'], columns=['Column7','Column11'])\n",
    "df.head()"
   ]
  },
  {
   "cell_type": "code",
   "execution_count": 8,
   "metadata": {},
   "outputs": [],
   "source": [
    "# Add Normalization\n",
    "from sklearn.preprocessing import StandardScaler\n",
    "cols = ['Column1','Column2','Column3','Column4','Column5','Column6','Column7','Column8','Column9','Column10','Column11','Column12','Column13',]\n",
    "cols_to_norm = ['Column4','Column5','Column8','Column10']\n",
    "df[cols_to_norm] = StandardScaler().fit_transform(df[cols_to_norm])"
   ]
  },
  {
   "cell_type": "code",
   "execution_count": 9,
   "metadata": {},
   "outputs": [
    {
     "name": "stdout",
     "output_type": "stream",
     "text": [
      "Index(['Column1', 'Column2', 'Column3', 'Column4', 'Column5', 'Column6',\n",
      "       'Column8', 'Column9', 'Column10', 'Column14', 'Column7_0', 'Column7_1',\n",
      "       'Column7_2', 'Column11_1.0', 'Column11_2.0', 'Column11_3.0'],\n",
      "      dtype='object')\n"
     ]
    },
    {
     "data": {
      "text/plain": [
       "<matplotlib.axes._subplots.AxesSubplot at 0x7fb8fd49dcf8>"
      ]
     },
     "execution_count": 9,
     "metadata": {},
     "output_type": "execute_result"
    },
    {
     "data": {
      "image/png": "[encoded data removed]",
      "text/plain": [
       "<Figure size 432x288 with 1 Axes>"
      ]
     },
     "metadata": {},
     "output_type": "display_data"
    }
   ],
   "source": [
    "import seaborn as sns\n",
    "\n",
    "print(df.columns)\n",
    "\n",
    "sns.boxplot(data=df['Column4'])"
   ]
  },
  {
   "cell_type": "code",
   "execution_count": 10,
   "metadata": {},
   "outputs": [
    {
     "data": {
      "image/png": "[encoded data removed]",
      "text/plain": [
       "<Figure size 432x288 with 1 Axes>"
      ]
     },
     "metadata": {},
     "output_type": "display_data"
    }
   ],
   "source": [
    "sns.boxplot(data=df['Column5'])\n",
    "df = df.drop(df[df.Column5 < -1].index)"
   ]
  },
  {
   "cell_type": "code",
   "execution_count": 11,
   "metadata": {},
   "outputs": [
    {
     "data": {
      "text/plain": [
       "<matplotlib.axes._subplots.AxesSubplot at 0x7fb8f9187b38>"
      ]
     },
     "execution_count": 11,
     "metadata": {},
     "output_type": "execute_result"
    },
    {
     "data": {
      "image/png": "[encoded data removed]",
      "text/plain": [
       "<Figure size 432x288 with 1 Axes>"
      ]
     },
     "metadata": {},
     "output_type": "display_data"
    }
   ],
   "source": [
    "sns.boxplot(data=df['Column8'])"
   ]
  },
  {
   "cell_type": "code",
   "execution_count": 12,
   "metadata": {},
   "outputs": [
    {
     "data": {
      "image/png": "[encoded data removed]",
      "text/plain": [
       "<Figure size 432x288 with 1 Axes>"
      ]
     },
     "metadata": {},
     "output_type": "display_data"
    }
   ],
   "source": [
    "sns.boxplot(data=df['Column10'])\n",
    "df = df.drop(df[df.Column5 > 1].index)"
   ]
  },
  {
   "cell_type": "code",
   "execution_count": 13,
   "metadata": {},
   "outputs": [
    {
     "data": {
      "text/plain": [
       "<matplotlib.axes._subplots.AxesSubplot at 0x7fb8f90c6400>"
      ]
     },
     "execution_count": 13,
     "metadata": {},
     "output_type": "execute_result"
    },
    {
     "data": {
      "image/png": "[encoded data removed]",
      "text/plain": [
       "<Figure size 720x576 with 2 Axes>"
      ]
     },
     "metadata": {},
     "output_type": "display_data"
    }
   ],
   "source": [
    "import seaborn as sns\n",
    "\n",
    "f, ax = plt.subplots(figsize=(10, 8))\n",
    "corr = df.corr()\n",
    "sns.heatmap(corr, mask=np.zeros_like(corr, dtype=np.bool), cmap=sns.diverging_palette(220, 10, as_cmap=True),\n",
    "            square=True, ax=ax)"
   ]
  },
  {
   "cell_type": "markdown",
   "metadata": {},
   "source": [
    "## Learning Phase"
   ]
  },
  {
   "cell_type": "markdown",
   "metadata": {},
   "source": [
    "### A. Split Training"
   ]
  },
  {
   "cell_type": "code",
   "execution_count": 14,
   "metadata": {},
   "outputs": [],
   "source": [
    "y = df['Column14']\n",
    "X = df.drop(['Column14'], axis=1)"
   ]
  },
  {
   "cell_type": "code",
   "execution_count": 15,
   "metadata": {},
   "outputs": [],
   "source": [
    "from sklearn.model_selection import train_test_split\n",
    "from sklearn.metrics import classification_report,confusion_matrix\n",
    "\n",
    "X_train, X_test, y_train, y_test = train_test_split(X, y, test_size = 0.1, random_state=50)"
   ]
  },
  {
   "cell_type": "markdown",
   "metadata": {},
   "source": [
    "### 1. Decision Tree"
   ]
  },
  {
   "cell_type": "code",
   "execution_count": 16,
   "metadata": {},
   "outputs": [],
   "source": [
    "from sklearn.metrics import accuracy_score"
   ]
  },
  {
   "cell_type": "code",
   "execution_count": 17,
   "metadata": {},
   "outputs": [],
   "source": [
    "from sklearn import tree\n",
    "dt = tree.DecisionTreeClassifier()\n",
    "dt.fit(X_train, y_train)\n",
    "dt_pred = dt.predict(X_test)"
   ]
  },
  {
   "cell_type": "code",
   "execution_count": 18,
   "metadata": {},
   "outputs": [
    {
     "name": "stdout",
     "output_type": "stream",
     "text": [
      "Accuracy : 0.6923076923076923\n",
      "             precision    recall  f1-score   support\n",
      "\n",
      "          0       0.85      0.85      0.85        33\n",
      "          1       0.47      0.58      0.52        12\n",
      "          2       0.00      0.00      0.00         4\n",
      "          3       0.33      0.50      0.40         2\n",
      "          4       0.00      0.00      0.00         1\n",
      "\n",
      "avg / total       0.66      0.69      0.67        52\n",
      "\n"
     ]
    },
    {
     "name": "stderr",
     "output_type": "stream",
     "text": [
      "/home/budiman/anaconda3/lib/python3.6/site-packages/sklearn/metrics/classification.py:1135: UndefinedMetricWarning: Precision and F-score are ill-defined and being set to 0.0 in labels with no predicted samples.\n",
      "  'precision', 'predicted', average, warn_for)\n"
     ]
    }
   ],
   "source": [
    "print('Accuracy : ' + str(accuracy_score(y_test, dt_pred)))\n",
    "print(classification_report(y_test,dt_pred))"
   ]
  },
  {
   "cell_type": "markdown",
   "metadata": {},
   "source": [
    "### 2. Naive Bayes"
   ]
  },
  {
   "cell_type": "code",
   "execution_count": 19,
   "metadata": {},
   "outputs": [],
   "source": [
    "from sklearn.naive_bayes import GaussianNB"
   ]
  },
  {
   "cell_type": "code",
   "execution_count": 20,
   "metadata": {},
   "outputs": [],
   "source": [
    "gnb = GaussianNB()\n",
    "gnb.fit(X_train, y_train)\n",
    "gnb_pred = gnb.predict(X_test)"
   ]
  },
  {
   "cell_type": "code",
   "execution_count": 21,
   "metadata": {},
   "outputs": [
    {
     "name": "stdout",
     "output_type": "stream",
     "text": [
      "Accuracy : 0.5576923076923077\n",
      "             precision    recall  f1-score   support\n",
      "\n",
      "          0       0.81      0.76      0.78        33\n",
      "          1       0.50      0.25      0.33        12\n",
      "          2       0.00      0.00      0.00         4\n",
      "          3       0.33      0.50      0.40         2\n",
      "          4       0.00      0.00      0.00         1\n",
      "\n",
      "avg / total       0.64      0.56      0.59        52\n",
      "\n"
     ]
    }
   ],
   "source": [
    "print('Accuracy : ' + str(accuracy_score(y_test, gnb_pred)))\n",
    "print(classification_report(y_test,gnb_pred))"
   ]
  },
  {
   "cell_type": "markdown",
   "metadata": {},
   "source": [
    "### 3. kNN"
   ]
  },
  {
   "cell_type": "code",
   "execution_count": 22,
   "metadata": {},
   "outputs": [],
   "source": [
    "from sklearn.neighbors import KNeighborsClassifier "
   ]
  },
  {
   "cell_type": "code",
   "execution_count": 23,
   "metadata": {},
   "outputs": [],
   "source": [
    "train_acc = []\n",
    "test_acc  = []\n",
    "for k in range(1,100):\n",
    "    knn = KNeighborsClassifier(n_neighbors=k)\n",
    "    knn.fit(X_train, y_train)\n",
    "    train_acc.append(knn.score(X_train ,y_train))\n",
    "    test_acc.append(knn.score(X_test ,y_test))"
   ]
  },
  {
   "cell_type": "code",
   "execution_count": 24,
   "metadata": {},
   "outputs": [
    {
     "data": {
      "text/plain": [
       "[<matplotlib.lines.Line2D at 0x7fb8f63e9828>]"
      ]
     },
     "execution_count": 24,
     "metadata": {},
     "output_type": "execute_result"
    },
    {
     "data": {
      "image/png": "[encoded data removed]",
      "text/plain": [
       "<Figure size 432x288 with 1 Axes>"
      ]
     },
     "metadata": {},
     "output_type": "display_data"
    }
   ],
   "source": [
    "plt.plot(train_acc)\n",
    "plt.plot(test_acc)"
   ]
  },
  {
   "cell_type": "code",
   "execution_count": 25,
   "metadata": {},
   "outputs": [],
   "source": [
    "knn = KNeighborsClassifier(n_neighbors=10)\n",
    "knn.fit(X_train, y_train)\n",
    "knn_pred = knn.predict(X_test)"
   ]
  },
  {
   "cell_type": "code",
   "execution_count": 26,
   "metadata": {},
   "outputs": [
    {
     "name": "stdout",
     "output_type": "stream",
     "text": [
      "Accuracy : 0.6538461538461539\n",
      "             precision    recall  f1-score   support\n",
      "\n",
      "          0       0.71      0.91      0.80        33\n",
      "          1       0.43      0.25      0.32        12\n",
      "          2       0.50      0.25      0.33         4\n",
      "          3       0.00      0.00      0.00         2\n",
      "          4       0.00      0.00      0.00         1\n",
      "\n",
      "avg / total       0.59      0.65      0.61        52\n",
      "\n"
     ]
    },
    {
     "name": "stderr",
     "output_type": "stream",
     "text": [
      "/home/budiman/anaconda3/lib/python3.6/site-packages/sklearn/metrics/classification.py:1135: UndefinedMetricWarning: Precision and F-score are ill-defined and being set to 0.0 in labels with no predicted samples.\n",
      "  'precision', 'predicted', average, warn_for)\n"
     ]
    }
   ],
   "source": [
    "print('Accuracy : ' + str(accuracy_score(y_test, knn_pred)))\n",
    "print(classification_report(y_test,knn_pred))"
   ]
  },
  {
   "cell_type": "markdown",
   "metadata": {},
   "source": [
    "### 4. MLPC"
   ]
  },
  {
   "cell_type": "code",
   "execution_count": 27,
   "metadata": {},
   "outputs": [],
   "source": [
    "from sklearn.neural_network import MLPClassifier"
   ]
  },
  {
   "cell_type": "code",
   "execution_count": 28,
   "metadata": {},
   "outputs": [],
   "source": [
    "mlpc = MLPClassifier(solver='lbfgs', hidden_layer_sizes=(112,14,), random_state=123, max_iter=1000)\n",
    "mlpc = mlpc.fit(X_train, y_train)\n",
    "mlpc_pred = mlpc.predict(X_test)"
   ]
  },
  {
   "cell_type": "code",
   "execution_count": 29,
   "metadata": {
    "scrolled": true
   },
   "outputs": [
    {
     "name": "stdout",
     "output_type": "stream",
     "text": [
      "Accuracy : 0.75\n",
      "             precision    recall  f1-score   support\n",
      "\n",
      "          0       0.78      0.97      0.86        33\n",
      "          1       0.88      0.58      0.70        12\n",
      "          2       0.00      0.00      0.00         4\n",
      "          3       0.00      0.00      0.00         2\n",
      "          4       0.00      0.00      0.00         1\n",
      "\n",
      "avg / total       0.70      0.75      0.71        52\n",
      "\n"
     ]
    },
    {
     "name": "stderr",
     "output_type": "stream",
     "text": [
      "/home/budiman/anaconda3/lib/python3.6/site-packages/sklearn/metrics/classification.py:1135: UndefinedMetricWarning: Precision and F-score are ill-defined and being set to 0.0 in labels with no predicted samples.\n",
      "  'precision', 'predicted', average, warn_for)\n"
     ]
    }
   ],
   "source": [
    "print('Accuracy : ' + str(accuracy_score(y_test, mlpc_pred)))\n",
    "print(classification_report(y_test,mlpc_pred))"
   ]
  },
  {
   "cell_type": "markdown",
   "metadata": {},
   "source": [
    "### B. Cross Validation"
   ]
  },
  {
   "cell_type": "code",
   "execution_count": 30,
   "metadata": {},
   "outputs": [
    {
     "name": "stdout",
     "output_type": "stream",
     "text": [
      "Cross Validation Result\n",
      "\n",
      "Naive Bayes\n",
      "\n",
      "K Fold\n",
      "Accuracy  :  0.5737179487179487\n",
      "Precision :  0.5737179487179487\n",
      "Recall    :  0.5737179487179487\n",
      "F1 score  :  0.5737179487179488\n",
      "\n",
      "Stratified K Fold\n",
      "Accuracy  :  0.5716298973064472\n",
      "Precision :  0.5716298973064472\n",
      "Recall    :  0.5716298973064472\n",
      "F1 score  :  0.5716298973064472\n",
      "\n",
      "\n",
      "Decision Tree\n",
      "\n",
      "K Fold\n",
      "Accuracy  :  0.5249622926093513\n",
      "Precision :  0.5249622926093513\n",
      "Recall    :  0.5249622926093513\n",
      "F1 score  :  0.5249622926093515\n",
      "\n",
      "Stratified K Fold\n",
      "Accuracy  :  0.5568286330820023\n",
      "Precision :  0.5568286330820023\n",
      "Recall    :  0.5568286330820023\n",
      "F1 score  :  0.5568286330820021\n",
      "\n",
      "\n",
      "kNN\n",
      "\n",
      "K Fold\n",
      "Accuracy  :  0.5868778280542986\n",
      "Precision :  0.5868778280542986\n",
      "Recall    :  0.5868778280542986\n",
      "F1 score  :  0.5868778280542987\n",
      "\n",
      "Stratified K Fold\n",
      "Accuracy  :  0.5869119902758716\n",
      "Precision :  0.5869119902758716\n",
      "Recall    :  0.5869119902758716\n",
      "F1 score  :  0.5869119902758716\n",
      "\n",
      "\n",
      "MLPC\n",
      "\n",
      "K Fold\n",
      "Accuracy  :  0.6470588235294117\n",
      "Precision :  0.6470588235294117\n",
      "Recall    :  0.6470588235294117\n",
      "F1 score  :  0.6470588235294117\n",
      "\n",
      "Stratified K Fold\n",
      "Accuracy  :  0.6478551747743122\n",
      "Precision :  0.6478551747743122\n",
      "Recall    :  0.6478551747743122\n",
      "F1 score  :  0.6478551747743122\n",
      "\n",
      "\n"
     ]
    }
   ],
   "source": [
    "from sklearn import tree\n",
    "from sklearn.neighbors import KNeighborsClassifier \n",
    "from sklearn.neural_network import MLPClassifier\n",
    "from sklearn.model_selection import KFold\n",
    "from sklearn.model_selection import StratifiedKFold\n",
    "from sklearn import metrics\n",
    "\n",
    "# create a 10-fold cross validation\n",
    "kf = KFold(n_splits=10, random_state=50)\n",
    "skf = StratifiedKFold(n_splits=10, random_state=50)\n",
    "\n",
    "print('Cross Validation Result\\n')\n",
    "#name = ['Decision Tree', 'Naive Bayes', 'kNN', 'MLPC']\n",
    "#cons = [dt,gnb,knn,mlpc]\n",
    "\n",
    "name = ['Naive Bayes','Decision Tree','kNN','MLPC']\n",
    "cons = [GaussianNB(),tree.DecisionTreeClassifier(),KNeighborsClassifier(n_neighbors=10),MLPClassifier(solver='lbfgs', hidden_layer_sizes=(34,14), random_state=123, max_iter=419)]\n",
    "\n",
    "for algo, c in zip(name,cons):\n",
    "    print(algo + '\\n')\n",
    "    print('K Fold')\n",
    "    accuracy = 0\n",
    "    precision = 0\n",
    "    recall = 0\n",
    "    for train_index, test_index in kf.split(X):\n",
    "        X_train, X_test = X.iloc[train_index], X.iloc[test_index]\n",
    "        y_train, y_test = y.iloc[train_index], y.iloc[test_index]\n",
    "\n",
    "        mlpc = c\n",
    "\n",
    "        mlpc = mlpc.fit(X_train, y_train)\n",
    "        mlpc_pred = mlpc.predict(X_test)\n",
    "        accuracy += metrics.accuracy_score(y_test, mlpc_pred)\n",
    "        precision += metrics.precision_score(y_test, mlpc_pred, average='micro')\n",
    "        recall += metrics.recall_score(y_test, mlpc_pred, average='micro')\n",
    "\n",
    "    print (\"Accuracy  : \", accuracy / kf.get_n_splits())\n",
    "    print (\"Precision : \", precision / kf.get_n_splits())\n",
    "    print (\"Recall    : \", recall / kf.get_n_splits())\n",
    "    print (\"F1 score  : \", 2*(((precision*recall)/100)/((precision+recall)/10)))\n",
    "    print(\"\")\n",
    "    \n",
    "    print('Stratified K Fold')\n",
    "    accuracy = 0\n",
    "    precision = 0\n",
    "    recall = 0\n",
    "    for train_index, test_index in skf.split(X,y):\n",
    "        X_train, X_test = X.iloc[train_index], X.iloc[test_index]\n",
    "        y_train, y_test = y.iloc[train_index], y.iloc[test_index]\n",
    "\n",
    "        if (algo==\"MLPC\") :\n",
    "            mlpc = MLPClassifier(solver='lbfgs', hidden_layer_sizes=(23,14), random_state=123, max_iter=437)\n",
    "        else :\n",
    "            mlpc = c\n",
    "\n",
    "        mlpc = mlpc.fit(X_train, y_train)\n",
    "        mlpc_pred = mlpc.predict(X_test)\n",
    "        accuracy += metrics.accuracy_score(y_test, mlpc_pred)\n",
    "        precision += metrics.precision_score(y_test, mlpc_pred, average='micro')\n",
    "        recall += metrics.recall_score(y_test, mlpc_pred, average='micro')\n",
    "\n",
    "    print (\"Accuracy  : \", accuracy / kf.get_n_splits())\n",
    "    print (\"Precision : \", precision / kf.get_n_splits())\n",
    "    print (\"Recall    : \", recall / kf.get_n_splits())\n",
    "    print (\"F1 score  : \", 2*(((precision*recall)/100)/((precision+recall)/10)))\n",
    "    print('\\n')"
   ]
  },
  {
   "cell_type": "markdown",
   "metadata": {},
   "source": [
    "Dari eksperimen, didapatkan data bahwa *akurasi, presisi, recall* dari *Split training* lebih tinggi daripada menggunakan *K Fold Cross Validation*. Tetapi, *K Fold Cross Validation* lebih baik digunakan karena akurasi yang didapatkan lebih konsisten. Maka dari itu, kami memilih menggunakan **K Fold Cross Validation** dengan algoritma terbaik yang didapatkan adalah **Multi Layer Perceptron**."
   ]
  },
  {
   "cell_type": "markdown",
   "metadata": {},
   "source": [
    "## Save Model"
   ]
  },
  {
   "cell_type": "code",
   "execution_count": 31,
   "metadata": {},
   "outputs": [],
   "source": [
    "import pickle\n",
    "\n",
    "model = MLPClassifier(solver='lbfgs', hidden_layer_sizes=(23,14), random_state=123, max_iter=437)\n",
    "model.fit(X_train,y_train)\n",
    "\n",
    "with open('model.sav','wb') as file :\n",
    "    pickle.dump(model, file)"
   ]
  },
  {
   "cell_type": "markdown",
   "metadata": {},
   "source": [
    "## Load Model"
   ]
  },
  {
   "cell_type": "code",
   "execution_count": 32,
   "metadata": {},
   "outputs": [],
   "source": [
    "with open('model.sav', 'rb') as file :\n",
    "    new_model = pickle.load(file)"
   ]
  },
  {
   "cell_type": "markdown",
   "metadata": {},
   "source": [
    "## Load Datatest"
   ]
  },
  {
   "cell_type": "code",
   "execution_count": 33,
   "metadata": {},
   "outputs": [
    {
     "data": {
      "text/html": [
       "<div>\n",
       "<style scoped>\n",
       "    .dataframe tbody tr th:only-of-type {\n",
       "        vertical-align: middle;\n",
       "    }\n",
       "\n",
       "    .dataframe tbody tr th {\n",
       "        vertical-align: top;\n",
       "    }\n",
       "\n",
       "    .dataframe thead th {\n",
       "        text-align: right;\n",
       "    }\n",
       "</style>\n",
       "<table border=\"1\" class=\"dataframe\">\n",
       "  <thead>\n",
       "    <tr style=\"text-align: right;\">\n",
       "      <th></th>\n",
       "      <th>Column1</th>\n",
       "      <th>Column2</th>\n",
       "      <th>Column3</th>\n",
       "      <th>Column4</th>\n",
       "      <th>Column5</th>\n",
       "      <th>Column6</th>\n",
       "      <th>Column7</th>\n",
       "      <th>Column8</th>\n",
       "      <th>Column9</th>\n",
       "      <th>Column10</th>\n",
       "      <th>Column11</th>\n",
       "      <th>Column12</th>\n",
       "      <th>Column13</th>\n",
       "    </tr>\n",
       "  </thead>\n",
       "  <tbody>\n",
       "    <tr>\n",
       "      <th>0</th>\n",
       "      <td>60</td>\n",
       "      <td>1</td>\n",
       "      <td>2</td>\n",
       "      <td>160</td>\n",
       "      <td>267</td>\n",
       "      <td>1</td>\n",
       "      <td>1</td>\n",
       "      <td>157</td>\n",
       "      <td>0</td>\n",
       "      <td>0.5</td>\n",
       "      <td>2</td>\n",
       "      <td>?</td>\n",
       "      <td>?</td>\n",
       "    </tr>\n",
       "    <tr>\n",
       "      <th>1</th>\n",
       "      <td>61</td>\n",
       "      <td>1</td>\n",
       "      <td>4</td>\n",
       "      <td>148</td>\n",
       "      <td>203</td>\n",
       "      <td>0</td>\n",
       "      <td>0</td>\n",
       "      <td>161</td>\n",
       "      <td>0</td>\n",
       "      <td>0</td>\n",
       "      <td>1</td>\n",
       "      <td>1</td>\n",
       "      <td>7</td>\n",
       "    </tr>\n",
       "    <tr>\n",
       "      <th>2</th>\n",
       "      <td>54</td>\n",
       "      <td>1</td>\n",
       "      <td>4</td>\n",
       "      <td>130</td>\n",
       "      <td>242</td>\n",
       "      <td>0</td>\n",
       "      <td>0</td>\n",
       "      <td>91</td>\n",
       "      <td>1</td>\n",
       "      <td>1</td>\n",
       "      <td>2</td>\n",
       "      <td>?</td>\n",
       "      <td>?</td>\n",
       "    </tr>\n",
       "    <tr>\n",
       "      <th>3</th>\n",
       "      <td>48</td>\n",
       "      <td>1</td>\n",
       "      <td>4</td>\n",
       "      <td>120</td>\n",
       "      <td>260</td>\n",
       "      <td>0</td>\n",
       "      <td>0</td>\n",
       "      <td>115</td>\n",
       "      <td>0</td>\n",
       "      <td>2</td>\n",
       "      <td>2</td>\n",
       "      <td>?</td>\n",
       "      <td>?</td>\n",
       "    </tr>\n",
       "    <tr>\n",
       "      <th>4</th>\n",
       "      <td>57</td>\n",
       "      <td>0</td>\n",
       "      <td>1</td>\n",
       "      <td>130</td>\n",
       "      <td>308</td>\n",
       "      <td>0</td>\n",
       "      <td>0</td>\n",
       "      <td>98</td>\n",
       "      <td>0</td>\n",
       "      <td>1</td>\n",
       "      <td>2</td>\n",
       "      <td>?</td>\n",
       "      <td>?</td>\n",
       "    </tr>\n",
       "  </tbody>\n",
       "</table>\n",
       "</div>"
      ],
      "text/plain": [
       "   Column1  Column2  Column3 Column4 Column5 Column6  Column7 Column8 Column9  \\\n",
       "0       60        1        2     160     267       1        1     157       0   \n",
       "1       61        1        4     148     203       0        0     161       0   \n",
       "2       54        1        4     130     242       0        0      91       1   \n",
       "3       48        1        4     120     260       0        0     115       0   \n",
       "4       57        0        1     130     308       0        0      98       0   \n",
       "\n",
       "  Column10 Column11 Column12 Column13  \n",
       "0      0.5        2        ?        ?  \n",
       "1        0        1        1        7  \n",
       "2        1        2        ?        ?  \n",
       "3        2        2        ?        ?  \n",
       "4        1        2        ?        ?  "
      ]
     },
     "execution_count": 33,
     "metadata": {},
     "output_type": "execute_result"
    }
   ],
   "source": [
    "df = pd.read_csv('data/tubes2_HeartDisease_test.csv')\n",
    "df.head()"
   ]
  },
  {
   "cell_type": "markdown",
   "metadata": {},
   "source": [
    "## Datatest Tuning"
   ]
  },
  {
   "cell_type": "code",
   "execution_count": 34,
   "metadata": {},
   "outputs": [
    {
     "name": "stdout",
     "output_type": "stream",
     "text": [
      "141\n",
      "Percentage of Empty in Each Attributes\n"
     ]
    },
    {
     "data": {
      "text/plain": [
       "Column1     0.000000\n",
       "Column2     0.000000\n",
       "Column3     0.000000\n",
       "Column4     0.085106\n",
       "Column5     0.042553\n",
       "Column6     0.085106\n",
       "Column7     0.000000\n",
       "Column8     0.078014\n",
       "Column9     0.078014\n",
       "Column10    0.092199\n",
       "Column11    0.333333\n",
       "Column12    0.687943\n",
       "Column13    0.553191\n",
       "dtype: float64"
      ]
     },
     "execution_count": 34,
     "metadata": {},
     "output_type": "execute_result"
    }
   ],
   "source": [
    "df.replace({\"?\":np.nan}, inplace=True)\n",
    "print(len(df))\n",
    "print(\"Percentage of Empty in Each Attributes\")\n",
    "df.isnull().sum(axis = 0)/len(df)"
   ]
  },
  {
   "cell_type": "code",
   "execution_count": 35,
   "metadata": {},
   "outputs": [
    {
     "data": {
      "text/html": [
       "<div>\n",
       "<style scoped>\n",
       "    .dataframe tbody tr th:only-of-type {\n",
       "        vertical-align: middle;\n",
       "    }\n",
       "\n",
       "    .dataframe tbody tr th {\n",
       "        vertical-align: top;\n",
       "    }\n",
       "\n",
       "    .dataframe thead th {\n",
       "        text-align: right;\n",
       "    }\n",
       "</style>\n",
       "<table border=\"1\" class=\"dataframe\">\n",
       "  <thead>\n",
       "    <tr style=\"text-align: right;\">\n",
       "      <th></th>\n",
       "      <th>Column1</th>\n",
       "      <th>Column2</th>\n",
       "      <th>Column3</th>\n",
       "      <th>Column4</th>\n",
       "      <th>Column5</th>\n",
       "      <th>Column6</th>\n",
       "      <th>Column8</th>\n",
       "      <th>Column9</th>\n",
       "      <th>Column10</th>\n",
       "      <th>Column7_0</th>\n",
       "      <th>Column7_1</th>\n",
       "      <th>Column7_2</th>\n",
       "      <th>Column11_1.0</th>\n",
       "      <th>Column11_2.0</th>\n",
       "      <th>Column11_3.0</th>\n",
       "    </tr>\n",
       "  </thead>\n",
       "  <tbody>\n",
       "    <tr>\n",
       "      <th>0</th>\n",
       "      <td>60</td>\n",
       "      <td>1</td>\n",
       "      <td>2</td>\n",
       "      <td>1.638924</td>\n",
       "      <td>0.653577</td>\n",
       "      <td>1.0</td>\n",
       "      <td>1.019485</td>\n",
       "      <td>0.0</td>\n",
       "      <td>-0.388870</td>\n",
       "      <td>0</td>\n",
       "      <td>1</td>\n",
       "      <td>0</td>\n",
       "      <td>0</td>\n",
       "      <td>1</td>\n",
       "      <td>0</td>\n",
       "    </tr>\n",
       "    <tr>\n",
       "      <th>1</th>\n",
       "      <td>61</td>\n",
       "      <td>1</td>\n",
       "      <td>4</td>\n",
       "      <td>0.965524</td>\n",
       "      <td>0.085873</td>\n",
       "      <td>0.0</td>\n",
       "      <td>1.189449</td>\n",
       "      <td>0.0</td>\n",
       "      <td>-0.453240</td>\n",
       "      <td>1</td>\n",
       "      <td>0</td>\n",
       "      <td>0</td>\n",
       "      <td>1</td>\n",
       "      <td>0</td>\n",
       "      <td>0</td>\n",
       "    </tr>\n",
       "    <tr>\n",
       "      <th>2</th>\n",
       "      <td>54</td>\n",
       "      <td>1</td>\n",
       "      <td>4</td>\n",
       "      <td>-0.044575</td>\n",
       "      <td>0.431818</td>\n",
       "      <td>0.0</td>\n",
       "      <td>-1.784928</td>\n",
       "      <td>1.0</td>\n",
       "      <td>-0.324500</td>\n",
       "      <td>1</td>\n",
       "      <td>0</td>\n",
       "      <td>0</td>\n",
       "      <td>0</td>\n",
       "      <td>1</td>\n",
       "      <td>0</td>\n",
       "    </tr>\n",
       "    <tr>\n",
       "      <th>3</th>\n",
       "      <td>48</td>\n",
       "      <td>1</td>\n",
       "      <td>4</td>\n",
       "      <td>-0.605741</td>\n",
       "      <td>0.591485</td>\n",
       "      <td>0.0</td>\n",
       "      <td>-0.765141</td>\n",
       "      <td>0.0</td>\n",
       "      <td>-0.195759</td>\n",
       "      <td>1</td>\n",
       "      <td>0</td>\n",
       "      <td>0</td>\n",
       "      <td>0</td>\n",
       "      <td>1</td>\n",
       "      <td>0</td>\n",
       "    </tr>\n",
       "    <tr>\n",
       "      <th>4</th>\n",
       "      <td>57</td>\n",
       "      <td>0</td>\n",
       "      <td>1</td>\n",
       "      <td>-0.044575</td>\n",
       "      <td>1.017263</td>\n",
       "      <td>0.0</td>\n",
       "      <td>-1.487490</td>\n",
       "      <td>0.0</td>\n",
       "      <td>-0.324500</td>\n",
       "      <td>1</td>\n",
       "      <td>0</td>\n",
       "      <td>0</td>\n",
       "      <td>0</td>\n",
       "      <td>1</td>\n",
       "      <td>0</td>\n",
       "    </tr>\n",
       "  </tbody>\n",
       "</table>\n",
       "</div>"
      ],
      "text/plain": [
       "   Column1  Column2  Column3   Column4   Column5  Column6   Column8  Column9  \\\n",
       "0       60        1        2  1.638924  0.653577      1.0  1.019485      0.0   \n",
       "1       61        1        4  0.965524  0.085873      0.0  1.189449      0.0   \n",
       "2       54        1        4 -0.044575  0.431818      0.0 -1.784928      1.0   \n",
       "3       48        1        4 -0.605741  0.591485      0.0 -0.765141      0.0   \n",
       "4       57        0        1 -0.044575  1.017263      0.0 -1.487490      0.0   \n",
       "\n",
       "   Column10  Column7_0  Column7_1  Column7_2  Column11_1.0  Column11_2.0  \\\n",
       "0 -0.388870          0          1          0             0             1   \n",
       "1 -0.453240          1          0          0             1             0   \n",
       "2 -0.324500          1          0          0             0             1   \n",
       "3 -0.195759          1          0          0             0             1   \n",
       "4 -0.324500          1          0          0             0             1   \n",
       "\n",
       "   Column11_3.0  \n",
       "0             0  \n",
       "1             0  \n",
       "2             0  \n",
       "3             0  \n",
       "4             0  "
      ]
     },
     "execution_count": 35,
     "metadata": {},
     "output_type": "execute_result"
    }
   ],
   "source": [
    "df.drop(['Column12', 'Column13'], axis=1, inplace=True)\n",
    "for column in df.columns:\n",
    "    df[column] = pd.to_numeric(df[column])\n",
    "    if ((column == 'Column11') or (column == 'Column12') or (column == 'Column13')):\n",
    "        df[column].fillna(df[column].mode()[0], inplace=True)\n",
    "    else:\n",
    "        df[column].fillna(df[column].median(), inplace=True)\n",
    "        \n",
    "df = pd.get_dummies(df, prefix=['Column7','Column11'], columns=['Column7','Column11'])\n",
    "cols = ['Column1','Column2','Column3','Column4','Column5','Column6','Column7','Column8','Column9','Column10','Column11','Column12','Column13',]\n",
    "cols_to_norm = ['Column4','Column5','Column8','Column10']\n",
    "df[cols_to_norm] = StandardScaler().fit_transform(df[cols_to_norm])\n",
    "df.head()"
   ]
  },
  {
   "cell_type": "markdown",
   "metadata": {},
   "source": [
    "## Datatest Prediction"
   ]
  },
  {
   "cell_type": "code",
   "execution_count": 36,
   "metadata": {
    "scrolled": false
   },
   "outputs": [
    {
     "name": "stdout",
     "output_type": "stream",
     "text": [
      "Hasil Prediksi :\n",
      "Datatest 1 : 0\n",
      "Datatest 2 : 0\n",
      "Datatest 3 : 1\n",
      "Datatest 4 : 0\n",
      "Datatest 5 : 0\n",
      "Datatest 6 : 0\n",
      "Datatest 7 : 1\n",
      "Datatest 8 : 2\n",
      "Datatest 9 : 0\n",
      "Datatest 10 : 0\n",
      "Datatest 11 : 1\n",
      "Datatest 12 : 1\n",
      "Datatest 13 : 0\n",
      "Datatest 14 : 0\n",
      "Datatest 15 : 0\n",
      "Datatest 16 : 2\n",
      "Datatest 17 : 2\n",
      "Datatest 18 : 0\n",
      "Datatest 19 : 0\n",
      "Datatest 20 : 0\n",
      "Datatest 21 : 0\n",
      "Datatest 22 : 2\n",
      "Datatest 23 : 0\n",
      "Datatest 24 : 1\n",
      "Datatest 25 : 0\n",
      "Datatest 26 : 0\n",
      "Datatest 27 : 1\n",
      "Datatest 28 : 1\n",
      "Datatest 29 : 1\n",
      "Datatest 30 : 0\n",
      "Datatest 31 : 0\n",
      "Datatest 32 : 0\n",
      "Datatest 33 : 0\n",
      "Datatest 34 : 0\n",
      "Datatest 35 : 1\n",
      "Datatest 36 : 0\n",
      "Datatest 37 : 0\n",
      "Datatest 38 : 0\n",
      "Datatest 39 : 0\n",
      "Datatest 40 : 0\n",
      "Datatest 41 : 1\n",
      "Datatest 42 : 0\n",
      "Datatest 43 : 0\n",
      "Datatest 44 : 1\n",
      "Datatest 45 : 0\n",
      "Datatest 46 : 1\n",
      "Datatest 47 : 1\n",
      "Datatest 48 : 2\n",
      "Datatest 49 : 1\n",
      "Datatest 50 : 0\n",
      "Datatest 51 : 0\n",
      "Datatest 52 : 0\n",
      "Datatest 53 : 2\n",
      "Datatest 54 : 1\n",
      "Datatest 55 : 0\n",
      "Datatest 56 : 1\n",
      "Datatest 57 : 0\n",
      "Datatest 58 : 2\n",
      "Datatest 59 : 1\n",
      "Datatest 60 : 0\n",
      "Datatest 61 : 0\n",
      "Datatest 62 : 0\n",
      "Datatest 63 : 1\n",
      "Datatest 64 : 4\n",
      "Datatest 65 : 0\n",
      "Datatest 66 : 0\n",
      "Datatest 67 : 1\n",
      "Datatest 68 : 0\n",
      "Datatest 69 : 0\n",
      "Datatest 70 : 0\n",
      "Datatest 71 : 0\n",
      "Datatest 72 : 0\n",
      "Datatest 73 : 0\n",
      "Datatest 74 : 0\n",
      "Datatest 75 : 0\n",
      "Datatest 76 : 0\n",
      "Datatest 77 : 0\n",
      "Datatest 78 : 0\n",
      "Datatest 79 : 0\n",
      "Datatest 80 : 0\n",
      "Datatest 81 : 0\n",
      "Datatest 82 : 2\n",
      "Datatest 83 : 1\n",
      "Datatest 84 : 2\n",
      "Datatest 85 : 0\n",
      "Datatest 86 : 1\n",
      "Datatest 87 : 0\n",
      "Datatest 88 : 0\n",
      "Datatest 89 : 3\n",
      "Datatest 90 : 0\n",
      "Datatest 91 : 1\n",
      "Datatest 92 : 0\n",
      "Datatest 93 : 0\n",
      "Datatest 94 : 0\n",
      "Datatest 95 : 0\n",
      "Datatest 96 : 0\n",
      "Datatest 97 : 0\n",
      "Datatest 98 : 1\n",
      "Datatest 99 : 1\n",
      "Datatest 100 : 0\n",
      "Datatest 101 : 2\n",
      "Datatest 102 : 0\n",
      "Datatest 103 : 0\n",
      "Datatest 104 : 0\n",
      "Datatest 105 : 1\n",
      "Datatest 106 : 0\n",
      "Datatest 107 : 0\n",
      "Datatest 108 : 0\n",
      "Datatest 109 : 1\n",
      "Datatest 110 : 2\n",
      "Datatest 111 : 0\n",
      "Datatest 112 : 0\n",
      "Datatest 113 : 0\n",
      "Datatest 114 : 0\n",
      "Datatest 115 : 0\n",
      "Datatest 116 : 4\n",
      "Datatest 117 : 0\n",
      "Datatest 118 : 2\n",
      "Datatest 119 : 0\n",
      "Datatest 120 : 1\n",
      "Datatest 121 : 2\n",
      "Datatest 122 : 1\n",
      "Datatest 123 : 0\n",
      "Datatest 124 : 1\n",
      "Datatest 125 : 1\n",
      "Datatest 126 : 0\n",
      "Datatest 127 : 0\n",
      "Datatest 128 : 2\n",
      "Datatest 129 : 2\n",
      "Datatest 130 : 0\n",
      "Datatest 131 : 0\n",
      "Datatest 132 : 1\n",
      "Datatest 133 : 0\n",
      "Datatest 134 : 0\n",
      "Datatest 135 : 1\n",
      "Datatest 136 : 3\n",
      "Datatest 137 : 0\n",
      "Datatest 138 : 0\n",
      "Datatest 139 : 0\n",
      "Datatest 140 : 0\n",
      "Datatest 141 : 0\n"
     ]
    }
   ],
   "source": [
    "new_predict = new_model.predict(df)\n",
    "print (\"Hasil Prediksi :\")\n",
    "for i in range (0,len(new_predict)) :\n",
    "    print (\"Datatest\",i+1,\":\", new_predict[i])"
   ]
  },
  {
   "cell_type": "markdown",
   "metadata": {},
   "source": [
    "## Save Prediction to CSV"
   ]
  },
  {
   "cell_type": "code",
   "execution_count": 37,
   "metadata": {},
   "outputs": [
    {
     "data": {
      "text/html": [
       "<div>\n",
       "<style scoped>\n",
       "    .dataframe tbody tr th:only-of-type {\n",
       "        vertical-align: middle;\n",
       "    }\n",
       "\n",
       "    .dataframe tbody tr th {\n",
       "        vertical-align: top;\n",
       "    }\n",
       "\n",
       "    .dataframe thead th {\n",
       "        text-align: right;\n",
       "    }\n",
       "</style>\n",
       "<table border=\"1\" class=\"dataframe\">\n",
       "  <thead>\n",
       "    <tr style=\"text-align: right;\">\n",
       "      <th></th>\n",
       "      <th>label</th>\n",
       "    </tr>\n",
       "  </thead>\n",
       "  <tbody>\n",
       "    <tr>\n",
       "      <th>0</th>\n",
       "      <td>0</td>\n",
       "    </tr>\n",
       "    <tr>\n",
       "      <th>1</th>\n",
       "      <td>0</td>\n",
       "    </tr>\n",
       "    <tr>\n",
       "      <th>2</th>\n",
       "      <td>1</td>\n",
       "    </tr>\n",
       "    <tr>\n",
       "      <th>3</th>\n",
       "      <td>0</td>\n",
       "    </tr>\n",
       "    <tr>\n",
       "      <th>4</th>\n",
       "      <td>0</td>\n",
       "    </tr>\n",
       "  </tbody>\n",
       "</table>\n",
       "</div>"
      ],
      "text/plain": [
       "   label\n",
       "0      0\n",
       "1      0\n",
       "2      1\n",
       "3      0\n",
       "4      0"
      ]
     },
     "execution_count": 37,
     "metadata": {},
     "output_type": "execute_result"
    }
   ],
   "source": [
    "submission = pd.DataFrame({'label':new_predict})\n",
    "submission.head()"
   ]
  },
  {
   "cell_type": "code",
   "execution_count": 39,
   "metadata": {},
   "outputs": [],
   "source": [
    "filename = 'data/13516081.csv'\n",
    "submission.to_csv(filename,index=False)"
   ]
  },
  {
   "cell_type": "markdown",
   "metadata": {},
   "source": [
    "#### Dibuat oleh : Kasmaran in Cimahi\n",
    "#### November 2018\n",
    "#### Bandung"
   ]
  }
 ],
 "metadata": {
  "kernelspec": {
   "display_name": "Python 3",
   "language": "python",
   "name": "python3"
  },
  "language_info": {
   "codemirror_mode": {
    "name": "ipython",
    "version": 3
   },
   "file_extension": ".py",
   "mimetype": "text/x-python",
   "name": "python",
   "nbconvert_exporter": "python",
   "pygments_lexer": "ipython3",
   "version": "3.6.5"
  }
 },
 "nbformat": 4,
 "nbformat_minor": 2
}
